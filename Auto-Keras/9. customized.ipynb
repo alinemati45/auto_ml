{
  "cells": [
    {
      "cell_type": "code",
      "execution_count": 1,
      "metadata": {
        "id": "cZPewO02fGE8",
        "outputId": "e1d50336-99f1-46ce-d23c-fa316d06fdbb",
        "colab": {
          "base_uri": "https://localhost:8080/"
        }
      },
      "outputs": [
        {
          "output_type": "stream",
          "name": "stdout",
          "text": [
            "Looking in indexes: https://pypi.org/simple, https://us-python.pkg.dev/colab-wheels/public/simple/\n",
            "Collecting autokeras\n",
            "  Downloading autokeras-1.0.20-py3-none-any.whl (162 kB)\n",
            "\u001b[K     |████████████████████████████████| 162 kB 4.8 MB/s \n",
            "\u001b[?25hRequirement already satisfied: tensorflow>=2.8.0 in /usr/local/lib/python3.7/dist-packages (from autokeras) (2.9.2)\n",
            "Collecting keras-tuner>=1.1.0\n",
            "  Downloading keras_tuner-1.1.3-py3-none-any.whl (135 kB)\n",
            "\u001b[K     |████████████████████████████████| 135 kB 61.3 MB/s \n",
            "\u001b[?25hRequirement already satisfied: packaging in /usr/local/lib/python3.7/dist-packages (from autokeras) (21.3)\n",
            "Requirement already satisfied: pandas in /usr/local/lib/python3.7/dist-packages (from autokeras) (1.3.5)\n",
            "Requirement already satisfied: ipython in /usr/local/lib/python3.7/dist-packages (from keras-tuner>=1.1.0->autokeras) (7.9.0)\n",
            "Requirement already satisfied: tensorboard in /usr/local/lib/python3.7/dist-packages (from keras-tuner>=1.1.0->autokeras) (2.9.1)\n",
            "Requirement already satisfied: numpy in /usr/local/lib/python3.7/dist-packages (from keras-tuner>=1.1.0->autokeras) (1.21.6)\n",
            "Collecting kt-legacy\n",
            "  Downloading kt_legacy-1.0.4-py3-none-any.whl (9.6 kB)\n",
            "Requirement already satisfied: requests in /usr/local/lib/python3.7/dist-packages (from keras-tuner>=1.1.0->autokeras) (2.23.0)\n",
            "Requirement already satisfied: grpcio<2.0,>=1.24.3 in /usr/local/lib/python3.7/dist-packages (from tensorflow>=2.8.0->autokeras) (1.50.0)\n",
            "Requirement already satisfied: h5py>=2.9.0 in /usr/local/lib/python3.7/dist-packages (from tensorflow>=2.8.0->autokeras) (3.1.0)\n",
            "Requirement already satisfied: six>=1.12.0 in /usr/local/lib/python3.7/dist-packages (from tensorflow>=2.8.0->autokeras) (1.15.0)\n",
            "Requirement already satisfied: setuptools in /usr/local/lib/python3.7/dist-packages (from tensorflow>=2.8.0->autokeras) (57.4.0)\n",
            "Requirement already satisfied: typing-extensions>=3.6.6 in /usr/local/lib/python3.7/dist-packages (from tensorflow>=2.8.0->autokeras) (4.1.1)\n",
            "Requirement already satisfied: opt-einsum>=2.3.2 in /usr/local/lib/python3.7/dist-packages (from tensorflow>=2.8.0->autokeras) (3.3.0)\n",
            "Requirement already satisfied: flatbuffers<2,>=1.12 in /usr/local/lib/python3.7/dist-packages (from tensorflow>=2.8.0->autokeras) (1.12)\n",
            "Requirement already satisfied: astunparse>=1.6.0 in /usr/local/lib/python3.7/dist-packages (from tensorflow>=2.8.0->autokeras) (1.6.3)\n",
            "Requirement already satisfied: keras-preprocessing>=1.1.1 in /usr/local/lib/python3.7/dist-packages (from tensorflow>=2.8.0->autokeras) (1.1.2)\n",
            "Requirement already satisfied: protobuf<3.20,>=3.9.2 in /usr/local/lib/python3.7/dist-packages (from tensorflow>=2.8.0->autokeras) (3.17.3)\n",
            "Requirement already satisfied: termcolor>=1.1.0 in /usr/local/lib/python3.7/dist-packages (from tensorflow>=2.8.0->autokeras) (2.0.1)\n",
            "Requirement already satisfied: tensorflow-io-gcs-filesystem>=0.23.1 in /usr/local/lib/python3.7/dist-packages (from tensorflow>=2.8.0->autokeras) (0.27.0)\n",
            "Requirement already satisfied: keras<2.10.0,>=2.9.0rc0 in /usr/local/lib/python3.7/dist-packages (from tensorflow>=2.8.0->autokeras) (2.9.0)\n",
            "Requirement already satisfied: absl-py>=1.0.0 in /usr/local/lib/python3.7/dist-packages (from tensorflow>=2.8.0->autokeras) (1.3.0)\n",
            "Requirement already satisfied: google-pasta>=0.1.1 in /usr/local/lib/python3.7/dist-packages (from tensorflow>=2.8.0->autokeras) (0.2.0)\n",
            "Requirement already satisfied: libclang>=13.0.0 in /usr/local/lib/python3.7/dist-packages (from tensorflow>=2.8.0->autokeras) (14.0.6)\n",
            "Requirement already satisfied: gast<=0.4.0,>=0.2.1 in /usr/local/lib/python3.7/dist-packages (from tensorflow>=2.8.0->autokeras) (0.4.0)\n",
            "Requirement already satisfied: wrapt>=1.11.0 in /usr/local/lib/python3.7/dist-packages (from tensorflow>=2.8.0->autokeras) (1.14.1)\n",
            "Requirement already satisfied: tensorflow-estimator<2.10.0,>=2.9.0rc0 in /usr/local/lib/python3.7/dist-packages (from tensorflow>=2.8.0->autokeras) (2.9.0)\n",
            "Requirement already satisfied: wheel<1.0,>=0.23.0 in /usr/local/lib/python3.7/dist-packages (from astunparse>=1.6.0->tensorflow>=2.8.0->autokeras) (0.37.1)\n",
            "Requirement already satisfied: cached-property in /usr/local/lib/python3.7/dist-packages (from h5py>=2.9.0->tensorflow>=2.8.0->autokeras) (1.5.2)\n",
            "Requirement already satisfied: markdown>=2.6.8 in /usr/local/lib/python3.7/dist-packages (from tensorboard->keras-tuner>=1.1.0->autokeras) (3.4.1)\n",
            "Requirement already satisfied: tensorboard-plugin-wit>=1.6.0 in /usr/local/lib/python3.7/dist-packages (from tensorboard->keras-tuner>=1.1.0->autokeras) (1.8.1)\n",
            "Requirement already satisfied: tensorboard-data-server<0.7.0,>=0.6.0 in /usr/local/lib/python3.7/dist-packages (from tensorboard->keras-tuner>=1.1.0->autokeras) (0.6.1)\n",
            "Requirement already satisfied: google-auth-oauthlib<0.5,>=0.4.1 in /usr/local/lib/python3.7/dist-packages (from tensorboard->keras-tuner>=1.1.0->autokeras) (0.4.6)\n",
            "Requirement already satisfied: google-auth<3,>=1.6.3 in /usr/local/lib/python3.7/dist-packages (from tensorboard->keras-tuner>=1.1.0->autokeras) (1.35.0)\n",
            "Requirement already satisfied: werkzeug>=1.0.1 in /usr/local/lib/python3.7/dist-packages (from tensorboard->keras-tuner>=1.1.0->autokeras) (1.0.1)\n",
            "Requirement already satisfied: cachetools<5.0,>=2.0.0 in /usr/local/lib/python3.7/dist-packages (from google-auth<3,>=1.6.3->tensorboard->keras-tuner>=1.1.0->autokeras) (4.2.4)\n",
            "Requirement already satisfied: pyasn1-modules>=0.2.1 in /usr/local/lib/python3.7/dist-packages (from google-auth<3,>=1.6.3->tensorboard->keras-tuner>=1.1.0->autokeras) (0.2.8)\n",
            "Requirement already satisfied: rsa<5,>=3.1.4 in /usr/local/lib/python3.7/dist-packages (from google-auth<3,>=1.6.3->tensorboard->keras-tuner>=1.1.0->autokeras) (4.9)\n",
            "Requirement already satisfied: requests-oauthlib>=0.7.0 in /usr/local/lib/python3.7/dist-packages (from google-auth-oauthlib<0.5,>=0.4.1->tensorboard->keras-tuner>=1.1.0->autokeras) (1.3.1)\n",
            "Requirement already satisfied: importlib-metadata>=4.4 in /usr/local/lib/python3.7/dist-packages (from markdown>=2.6.8->tensorboard->keras-tuner>=1.1.0->autokeras) (4.13.0)\n",
            "Requirement already satisfied: zipp>=0.5 in /usr/local/lib/python3.7/dist-packages (from importlib-metadata>=4.4->markdown>=2.6.8->tensorboard->keras-tuner>=1.1.0->autokeras) (3.10.0)\n",
            "Requirement already satisfied: pyasn1<0.5.0,>=0.4.6 in /usr/local/lib/python3.7/dist-packages (from pyasn1-modules>=0.2.1->google-auth<3,>=1.6.3->tensorboard->keras-tuner>=1.1.0->autokeras) (0.4.8)\n",
            "Requirement already satisfied: idna<3,>=2.5 in /usr/local/lib/python3.7/dist-packages (from requests->keras-tuner>=1.1.0->autokeras) (2.10)\n",
            "Requirement already satisfied: certifi>=2017.4.17 in /usr/local/lib/python3.7/dist-packages (from requests->keras-tuner>=1.1.0->autokeras) (2022.9.24)\n",
            "Requirement already satisfied: chardet<4,>=3.0.2 in /usr/local/lib/python3.7/dist-packages (from requests->keras-tuner>=1.1.0->autokeras) (3.0.4)\n",
            "Requirement already satisfied: urllib3!=1.25.0,!=1.25.1,<1.26,>=1.21.1 in /usr/local/lib/python3.7/dist-packages (from requests->keras-tuner>=1.1.0->autokeras) (1.24.3)\n",
            "Requirement already satisfied: oauthlib>=3.0.0 in /usr/local/lib/python3.7/dist-packages (from requests-oauthlib>=0.7.0->google-auth-oauthlib<0.5,>=0.4.1->tensorboard->keras-tuner>=1.1.0->autokeras) (3.2.2)\n",
            "Requirement already satisfied: pexpect in /usr/local/lib/python3.7/dist-packages (from ipython->keras-tuner>=1.1.0->autokeras) (4.8.0)\n",
            "Collecting jedi>=0.10\n",
            "  Downloading jedi-0.18.1-py2.py3-none-any.whl (1.6 MB)\n",
            "\u001b[K     |████████████████████████████████| 1.6 MB 50.8 MB/s \n",
            "\u001b[?25hRequirement already satisfied: traitlets>=4.2 in /usr/local/lib/python3.7/dist-packages (from ipython->keras-tuner>=1.1.0->autokeras) (5.1.1)\n",
            "Requirement already satisfied: prompt-toolkit<2.1.0,>=2.0.0 in /usr/local/lib/python3.7/dist-packages (from ipython->keras-tuner>=1.1.0->autokeras) (2.0.10)\n",
            "Requirement already satisfied: decorator in /usr/local/lib/python3.7/dist-packages (from ipython->keras-tuner>=1.1.0->autokeras) (4.4.2)\n",
            "Requirement already satisfied: pygments in /usr/local/lib/python3.7/dist-packages (from ipython->keras-tuner>=1.1.0->autokeras) (2.6.1)\n",
            "Requirement already satisfied: pickleshare in /usr/local/lib/python3.7/dist-packages (from ipython->keras-tuner>=1.1.0->autokeras) (0.7.5)\n",
            "Requirement already satisfied: backcall in /usr/local/lib/python3.7/dist-packages (from ipython->keras-tuner>=1.1.0->autokeras) (0.2.0)\n",
            "Requirement already satisfied: parso<0.9.0,>=0.8.0 in /usr/local/lib/python3.7/dist-packages (from jedi>=0.10->ipython->keras-tuner>=1.1.0->autokeras) (0.8.3)\n",
            "Requirement already satisfied: wcwidth in /usr/local/lib/python3.7/dist-packages (from prompt-toolkit<2.1.0,>=2.0.0->ipython->keras-tuner>=1.1.0->autokeras) (0.2.5)\n",
            "Requirement already satisfied: pyparsing!=3.0.5,>=2.0.2 in /usr/local/lib/python3.7/dist-packages (from packaging->autokeras) (3.0.9)\n",
            "Requirement already satisfied: python-dateutil>=2.7.3 in /usr/local/lib/python3.7/dist-packages (from pandas->autokeras) (2.8.2)\n",
            "Requirement already satisfied: pytz>=2017.3 in /usr/local/lib/python3.7/dist-packages (from pandas->autokeras) (2022.5)\n",
            "Requirement already satisfied: ptyprocess>=0.5 in /usr/local/lib/python3.7/dist-packages (from pexpect->ipython->keras-tuner>=1.1.0->autokeras) (0.7.0)\n",
            "Installing collected packages: jedi, kt-legacy, keras-tuner, autokeras\n",
            "Successfully installed autokeras-1.0.20 jedi-0.18.1 keras-tuner-1.1.3 kt-legacy-1.0.4\n"
          ]
        }
      ],
      "source": [
        "!pip install autokeras\n"
      ]
    },
    {
      "cell_type": "code",
      "execution_count": 2,
      "metadata": {
        "id": "9tye-E9efGE9"
      },
      "outputs": [],
      "source": [
        "import numpy as np\n",
        "import tensorflow as tf\n",
        "from tensorflow.keras.datasets import mnist\n",
        "\n",
        "import autokeras as ak\n"
      ]
    },
    {
      "cell_type": "markdown",
      "metadata": {
        "id": "S-kxtNHqfGE9"
      },
      "source": [
        "In this tutorial, we show how to customize your search space with\n",
        "[AutoModel](/auto_model/#automodel-class) and how to implement your own block\n",
        "as search space.  This API is mainly for advanced users who already know what\n",
        "their model should look like.\n",
        "\n",
        "## Customized Search Space\n",
        "First, let us see how we can build the following neural network using the\n",
        "building blocks in AutoKeras.\n",
        "\n",
        "<div class=\"mermaid\">\n",
        "graph LR\n",
        "    id1(ImageInput) --> id2(Normalization)\n",
        "    id2 --> id3(Image Augmentation)\n",
        "    id3 --> id4(Convolutional)\n",
        "    id3 --> id5(ResNet V2)\n",
        "    id4 --> id6(Merge)\n",
        "    id5 --> id6\n",
        "    id6 --> id7(Classification Head)\n",
        "</div>\n",
        "\n",
        "We can make use of the [AutoModel](/auto_model/#automodel-class) API in\n",
        "AutoKeras to implemented as follows.\n",
        "The usage is the same as the [Keras functional\n",
        "API](https://www.tensorflow.org/guide/keras/functional).\n",
        "Since this is just a demo, we use small amount of `max_trials` and `epochs`.\n"
      ]
    },
    {
      "cell_type": "code",
      "execution_count": 3,
      "metadata": {
        "id": "9kwJZ1XUfGE-"
      },
      "outputs": [],
      "source": [
        "\n",
        "input_node = ak.ImageInput()\n",
        "output_node = ak.Normalization()(input_node)\n",
        "output_node1 = ak.ConvBlock()(output_node)\n",
        "output_node2 = ak.ResNetBlock(version=\"v2\")(output_node)\n",
        "output_node = ak.Merge()([output_node1, output_node2])\n",
        "output_node = ak.ClassificationHead()(output_node)\n",
        "\n",
        "auto_model = ak.AutoModel(\n",
        "    inputs=input_node, outputs=output_node, overwrite=True, max_trials=1\n",
        ")\n"
      ]
    },
    {
      "cell_type": "markdown",
      "metadata": {
        "id": "-kEtuyf2fGE-"
      },
      "source": [
        "Whild building the model, the blocks used need to follow this topology:\n",
        "`Preprocessor` -> `Block` -> `Head`. `Normalization` and `ImageAugmentation`\n",
        "are `Preprocessor`s.\n",
        "`ClassificationHead` is `Head`. The rest are `Block`s.\n",
        "\n",
        "In the code above, we use `ak.ResNetBlock(version='v2')` to specify the version\n",
        "of ResNet to use.  There are many other arguments to specify for each building\n",
        "block.  For most of the arguments, if not specified, they would be tuned\n",
        "automatically.  Please refer to the documentation links at the bottom of the\n",
        "page for more details.\n",
        "\n",
        "Then, we prepare some data to run the model.\n"
      ]
    },
    {
      "cell_type": "code",
      "execution_count": 4,
      "metadata": {
        "id": "-MN1KwTmfGE-",
        "outputId": "b590ecda-8250-4a51-b6f5-dcfe34fb7dd9",
        "colab": {
          "base_uri": "https://localhost:8080/"
        }
      },
      "outputs": [
        {
          "output_type": "stream",
          "name": "stdout",
          "text": [
            "Trial 1 Complete [00h 00m 28s]\n",
            "val_loss: 2.3825531005859375\n",
            "\n",
            "Best val_loss So Far: 2.3825531005859375\n",
            "Total elapsed time: 00h 00m 28s\n",
            "4/4 [==============================] - 6s 288ms/step - loss: 2.1781 - accuracy: 0.2800\n"
          ]
        },
        {
          "output_type": "stream",
          "name": "stderr",
          "text": [
            "WARNING:absl:Found untraced functions such as _jit_compiled_convolution_op, _jit_compiled_convolution_op, _jit_compiled_convolution_op, _jit_compiled_convolution_op, _jit_compiled_convolution_op while saving (showing 5 of 57). These functions will not be directly callable after loading.\n"
          ]
        },
        {
          "output_type": "stream",
          "name": "stdout",
          "text": [
            "313/313 [==============================] - 5s 13ms/step\n",
            "313/313 [==============================] - 3s 11ms/step\n",
            "313/313 [==============================] - 6s 17ms/step - loss: 2.2764 - accuracy: 0.2430\n",
            "[2.276444435119629, 0.24300000071525574]\n"
          ]
        }
      ],
      "source": [
        "\n",
        "(x_train, y_train), (x_test, y_test) = mnist.load_data()\n",
        "print(x_train.shape)  # (60000, 28, 28)\n",
        "print(y_train.shape)  # (60000,)\n",
        "print(y_train[:3])  # array([7, 2, 1], dtype=uint8)\n",
        "\n",
        "# Feed the AutoModel with training data.\n",
        "auto_model.fit(x_train[:100], y_train[:100], epochs=1)\n",
        "# Predict with the best model.\n",
        "predicted_y = auto_model.predict(x_test)\n",
        "# Evaluate the best model with testing data.\n",
        "print(auto_model.evaluate(x_test, y_test))\n"
      ]
    },
    {
      "cell_type": "markdown",
      "metadata": {
        "id": "uwzUXCzmfGE-"
      },
      "source": [
        "For multiple input nodes and multiple heads search space, you can refer to\n",
        "[this section](/tutorial/multi/#customized-search-space).\n",
        "\n",
        "## Validation Data\n",
        "If you would like to provide your own validation data or change the ratio of\n",
        "the validation data, please refer to the Validation Data section of the\n",
        "tutorials of [Image\n",
        "Classification](/tutorial/image_classification/#validation-data), [Text\n",
        "Classification](/tutorial/text_classification/#validation-data), [Structured\n",
        "Data\n",
        "Classification](/tutorial/structured_data_classification/#validation-data),\n",
        "[Multi-task and Multiple Validation](/tutorial/multi/#validation-data).\n",
        "\n",
        "## Data Format\n",
        "You can refer to the documentation of\n",
        "[ImageInput](/node/#imageinput-class),\n",
        "[StructuredDataInput](/node/#structureddatainput-class),\n",
        "[TextInput](/node/#textinput-class),\n",
        "[RegressionHead](/block/#regressionhead-class),\n",
        "[ClassificationHead](/block/#classificationhead-class),\n",
        "for the format of different types of data.\n",
        "You can also refer to the Data Format section of the tutorials of\n",
        "[Image Classification](/tutorial/image_classification/#data-format),\n",
        "[Text Classification](/tutorial/text_classification/#data-format),\n",
        "[Structured Data\n",
        "Classification](/tutorial/structured_data_classification/#data-format).\n",
        "\n",
        "## Implement New Block\n",
        "\n",
        "You can extend the [Block](/base/#block-class)\n",
        "class to implement your own building blocks and use it with\n",
        "[AutoModel](/auto_model/#automodel-class).\n",
        "\n",
        "The first step is to learn how to write a build function for\n",
        "[KerasTuner](https://keras-team.github.io/keras-tuner/#usage-the-basics).  You\n",
        "need to override the [build function](/base/#build-method) of the block.  The\n",
        "following example shows how to implement a single Dense layer block whose\n",
        "number of neurons is tunable.\n"
      ]
    },
    {
      "cell_type": "code",
      "execution_count": 5,
      "metadata": {
        "id": "5gidX4TbfGE_"
      },
      "outputs": [],
      "source": [
        "\n",
        "class SingleDenseLayerBlock(ak.Block):\n",
        "    def build(self, hp, inputs=None):\n",
        "        # Get the input_node from inputs.\n",
        "        input_node = tf.nest.flatten(inputs)[0]\n",
        "        layer = tf.keras.layers.Dense(\n",
        "            hp.Int(\"num_units\", min_value=32, max_value=512, step=32)\n",
        "        )\n",
        "        output_node = layer(input_node)\n",
        "        return output_node\n",
        "\n"
      ]
    },
    {
      "cell_type": "markdown",
      "metadata": {
        "id": "gJHvkB1sfGE_"
      },
      "source": [
        "You can connect it with other blocks and build it into an\n",
        "[AutoModel](/auto_model/#automodel-class).\n"
      ]
    },
    {
      "cell_type": "code",
      "execution_count": 6,
      "metadata": {
        "id": "Tnhrb2n9fGE_",
        "outputId": "935faa06-f8ce-4189-c495-eca464ab2d79",
        "colab": {
          "base_uri": "https://localhost:8080/"
        }
      },
      "outputs": [
        {
          "output_type": "stream",
          "name": "stdout",
          "text": [
            "Trial 1 Complete [00h 00m 01s]\n",
            "val_loss: 0.4382925033569336\n",
            "\n",
            "Best val_loss So Far: 0.4382925033569336\n",
            "Total elapsed time: 00h 00m 01s\n",
            "4/4 [==============================] - 0s 5ms/step - loss: 0.7237 - mean_squared_error: 0.7237\n",
            "4/4 [==============================] - 0s 4ms/step - loss: 0.2083 - mean_squared_error: 0.2083\n",
            "[0.20831866562366486, 0.20831866562366486]\n"
          ]
        }
      ],
      "source": [
        "# Build the AutoModel\n",
        "input_node = ak.Input()\n",
        "output_node = SingleDenseLayerBlock()(input_node)\n",
        "output_node = ak.RegressionHead()(output_node)\n",
        "auto_model = ak.AutoModel(input_node, output_node, overwrite=True, max_trials=1)\n",
        "# Prepare Data\n",
        "num_instances = 100\n",
        "x_train = np.random.rand(num_instances, 20).astype(np.float32)\n",
        "y_train = np.random.rand(num_instances, 1).astype(np.float32)\n",
        "x_test = np.random.rand(num_instances, 20).astype(np.float32)\n",
        "y_test = np.random.rand(num_instances, 1).astype(np.float32)\n",
        "# Train the model\n",
        "auto_model.fit(x_train, y_train, epochs=1)\n",
        "print(auto_model.evaluate(x_test, y_test))\n"
      ]
    },
    {
      "cell_type": "markdown",
      "metadata": {
        "id": "PICJBSOxfGE_"
      },
      "source": [
        "## Reference\n",
        "\n",
        "[AutoModel](/auto_model/#automodel-class)\n",
        "\n",
        "**Nodes**:\n",
        "[ImageInput](/node/#imageinput-class),\n",
        "[Input](/node/#input-class),\n",
        "[StructuredDataInput](/node/#structureddatainput-class),\n",
        "[TextInput](/node/#textinput-class).\n",
        "\n",
        "**Preprocessors**:\n",
        "[FeatureEngineering](/block/#featureengineering-class),\n",
        "[ImageAugmentation](/block/#imageaugmentation-class),\n",
        "[LightGBM](/block/#lightgbm-class),\n",
        "[Normalization](/block/#normalization-class),\n",
        "[TextToIntSequence](/block/#texttointsequence-class),\n",
        "[TextToNgramVector](/block/#texttongramvector-class).\n",
        "\n",
        "**Blocks**:\n",
        "[ConvBlock](/block/#convblock-class),\n",
        "[DenseBlock](/block/#denseblock-class),\n",
        "[Embedding](/block/#embedding-class),\n",
        "[Merge](/block/#merge-class),\n",
        "[ResNetBlock](/block/#resnetblock-class),\n",
        "[RNNBlock](/block/#rnnblock-class),\n",
        "[SpatialReduction](/block/#spatialreduction-class),\n",
        "[TemporalReduction](/block/#temporalreduction-class),\n",
        "[XceptionBlock](/block/#xceptionblock-class),\n",
        "[ImageBlock](/block/#imageblock-class),\n",
        "[StructuredDataBlock](/block/#structureddatablock-class),\n",
        "[TextBlock](/block/#textblock-class).\n"
      ]
    }
  ],
  "metadata": {
    "colab": {
      "collapsed_sections": [],
      "name": "customized",
      "provenance": [],
      "toc_visible": true
    },
    "kernelspec": {
      "display_name": "Python 3",
      "language": "python",
      "name": "python3"
    },
    "language_info": {
      "codemirror_mode": {
        "name": "ipython",
        "version": 3
      },
      "file_extension": ".py",
      "mimetype": "text/x-python",
      "name": "python",
      "nbconvert_exporter": "python",
      "pygments_lexer": "ipython3",
      "version": "3.7.0"
    },
    "accelerator": "GPU",
    "gpuClass": "standard"
  },
  "nbformat": 4,
  "nbformat_minor": 0
}