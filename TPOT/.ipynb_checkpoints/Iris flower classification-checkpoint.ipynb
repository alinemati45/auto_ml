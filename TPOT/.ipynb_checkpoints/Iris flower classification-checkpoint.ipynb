{
 "cells": [
  {
   "cell_type": "markdown",
   "id": "b2279efd-98d8-4f1b-b799-5f9eab2d597c",
   "metadata": {},
   "source": [
    "# TPOP\n",
    "\n",
    "<https://epistasislab.github.io/tpot/>\n",
    "\n",
    "TPOT will automate the most tedious part of machine learning by intelligently exploring thousands of possible pipelines to find the best one for your data.\n",
    "\n",
    "![](./data_image/tpot-ml-pipeline.png)\n",
    "\n",
    "An example machine learning pipeline\n",
    "\n",
    "\n",
    "\n",
    "Once TPOT is finished searching (or you get tired of waiting), it provides you with the Python code for the best pipeline it found so you can tinker with the pipeline from there.\n",
    "\n",
    "![](./data_image/tpot-pipeline-example.png)"
   ]
  },
  {
   "cell_type": "code",
   "execution_count": 3,
   "id": "a1f84e8a-9b96-4c1f-a695-b769edf54c13",
   "metadata": {},
   "outputs": [
    {
     "name": "stdout",
     "output_type": "stream",
     "text": [
      "Collecting package metadata (current_repodata.json): ...working... done\n",
      "Solving environment: ...working... done\n",
      "\n",
      "# All requested packages already installed.\n",
      "\n",
      "Retrieving notices: ...working... done\n",
      "Collecting package metadata (current_repodata.json): ...working... done\n",
      "Solving environment: ...working... done\n",
      "\n",
      "# All requested packages already installed.\n",
      "\n",
      "Retrieving notices: ...working... done\n"
     ]
    }
   ],
   "source": [
    "!conda install -c conda-forge tpot -y\n",
    "!conda install -c conda-forge tpot xgboost dask dask-ml scikit-mdr skrebate -y"
   ]
  },
  {
   "cell_type": "markdown",
   "id": "5841c959-1e0f-4426-84cb-2ac6ad4306cf",
   "metadata": {},
   "source": [
    "<https://epistasislab.github.io/tpot/api/>\n",
    "\n",
    "class tpot.TPOTClassifier(generations=100, population_size=100,\n",
    "\n",
    "      offspring_size=None, mutation_rate=0.9,\n",
    "\n",
    "      crossover_rate=0.1,\n",
    "      \n",
    "      scoring='accuracy', cv=5,\n",
    "      \n",
    "      subsample=1.0, \n",
    "      \n",
    "      n_jobs=1,\n",
    "      \n",
    "      max_time_mins=None, \n",
    "      \n",
    "      max_eval_time_mins=5,\n",
    "      \n",
    "      random_state=None, \n",
    "      \n",
    "      config_dict=None,\n",
    "      \n",
    "      template=None,\n",
    "      \n",
    "      warm_start=False,\n",
    "      \n",
    "      memory=None,\n",
    "      \n",
    "      use_dask=False,\n",
    "      \n",
    "      periodic_checkpoint_folder=None,\n",
    "      \n",
    "      early_stop=None,\n",
    "      \n",
    "      verbosity=0,\n",
    "      \n",
    "      disable_update_check=False,\n",
    "      \n",
    "      log_file=None\n",
    "                          )\n",
    "                          \n",
    "\n",
    "class tpot.TPOTRegressor(\n",
    "         \n",
    "     generations=100, \n",
    "     \n",
    "     population_size=100,\n",
    "         \n",
    "     offspring_size=None, \n",
    "      \n",
    "     mutation_rate=0.9,\n",
    " \n",
    "     crossover_rate=0.1,\n",
    " \n",
    "     scoring='neg_mean_squared_error', \n",
    "     \n",
    "     cv=5,\n",
    " \n",
    "     subsample=1.0, \n",
    "     \n",
    "     n_jobs=1,\n",
    "     \n",
    "     max_time_mins=None, \n",
    "     \n",
    "     max_eval_time_mins=5,\n",
    " \n",
    "     random_state=None, \n",
    "     \n",
    "     config_dict=None,\n",
    " \n",
    "     template=None,\n",
    " \n",
    "     warm_start=False,\n",
    " \n",
    "     memory=None,\n",
    " \n",
    "     use_dask=False,\n",
    "     \n",
    "     periodic_checkpoint_folder=None,\n",
    " \n",
    "     early_stop=None,\n",
    " \n",
    "     verbosity=0,\n",
    " \n",
    "     disable_update_check=False)\n"
   ]
  },
  {
   "cell_type": "markdown",
   "id": "3ef7f33a-36ed-44d8-ae48-64c7ca3639b2",
   "metadata": {},
   "source": [
    "<https://epistasislab.github.io/tpot/using/>\n",
    "\n",
    "<https://epistasislab.github.io/tpot/using/#built-in-tpot-configurations>\n",
    "\n",
    "\n",
    "\n",
    "\n",
    "\n",
    "| Configuration Name | Description                                                                                                                                                                                                                                                                                                                                                                                                                                                                                                                                                    | Operators                        |\n",
    "|--------------------|----------------------------------------------------------------------------------------------------------------------------------------------------------------------------------------------------------------------------------------------------------------------------------------------------------------------------------------------------------------------------------------------------------------------------------------------------------------------------------------------------------------------------------------------------------------|----------------------------------|\n",
    "| Default TPOT       | TPOT will search over a broad range of preprocessors, feature constructors, feature selectors, models, and parameters to find a series of operators that minimize the error of the model predictions. Some of these operators are complex and may take a long time to run, especially on larger datasets.<br><br>Note: This is the default configuration for TPOT. To use this configuration, use the default value (None) for the config_dict parameter.                                                                                                      | Classification<br><br>Regression |\n",
    "| TPOT light         | TPOT will search over a restricted range of preprocessors, feature constructors, feature selectors, models, and parameters to find a series of operators that minimize the error of the model predictions. Only simpler and fast-running operators will be used in these pipelines, so TPOT light is useful for finding quick and simple pipelines for a classification or regression problem.<br><br>This configuration works for both the TPOTClassifier and TPOTRegressor.                                                                                  | Classification<br><br>Regression |\n",
    "| TPOT MDR           | TPOT will search over a series of feature selectors and Multifactor Dimensionality Reduction models to find a series of operators that maximize prediction accuracy. The TPOT MDR configuration is specialized for genome-wide association studies (GWAS), and is described in detail online here.<br><br>Note that TPOT MDR may be slow to run because the feature selection routines are computationally expensive, especially on large datasets.                                                                                                            | Classification<br><br>Regression |\n",
    "| TPOT sparse        | TPOT uses a configuration dictionary with a one-hot encoder and the operators normally included in TPOT that also support sparse matrices.<br><br>This configuration works for both the TPOTClassifier and TPOTRegressor.                                                                                                                                                                                                                                                                                                                                      | Classification<br><br>Regression |\n",
    "| TPOT NN            | TPOT uses the same configuration as \"Default TPOT\" plus additional neural network estimators written in PyTorch (currently only `tpot.builtins.PytorchLRClassifier` and `tpot.builtins.PytorchMLPClassifier`).<br><br>Currently only classification is supported, but future releases will include regression estimators.                                                                                                                                                                                                                                      | Classification                   |\n",
    "| TPOT cuML          | TPOT will search over a restricted configuration using the GPU-accelerated estimators in RAPIDS cuML and DMLC XGBoost. This configuration requires an NVIDIA Pascal architecture or better GPU with compute capability 6.0+, and that the library cuML is installed. With this configuration, all model training and predicting will be GPU-accelerated.<br><br>This configuration is particularly useful for medium-sized and larger datasets on which CPU-based estimators are a common bottleneck, and works for both the TPOTClassifier and TPOTRegressor. | Classification<br><br>Regression |"
   ]
  },
  {
   "cell_type": "markdown",
   "id": "ba9257fd-6304-44e9-b7b8-9f5d7786ef5f",
   "metadata": {},
   "source": [
    "# Classification"
   ]
  },
  {
   "cell_type": "markdown",
   "id": "04a132ce-8bf8-4439-a042-4501b6e2ec59",
   "metadata": {},
   "source": [
    "## iris Dataset"
   ]
  },
  {
   "cell_type": "code",
   "execution_count": 10,
   "id": "80a252e2-4c92-4dc7-99a2-3ae417583b60",
   "metadata": {},
   "outputs": [
    {
     "name": "stdout",
     "output_type": "stream",
     "text": [
      "                                                                                \n",
      "Generation 1 - Current best internal CV score: 0.9727272727272727\n",
      "                                                                                \n",
      "Generation 2 - Current best internal CV score: 0.9727272727272727\n",
      "                                                                                \n",
      "Generation 3 - Current best internal CV score: 0.9727272727272727\n",
      "                                                                                \n",
      "Generation 4 - Current best internal CV score: 0.9731225296442687\n",
      "                                                                                \n",
      "Generation 5 - Current best internal CV score: 0.9818181818181818\n",
      "                                                                                \n",
      "Best pipeline: RandomForestClassifier(LinearSVC(RandomForestClassifier(RBFSampler(input_matrix, gamma=0.30000000000000004), bootstrap=False, criterion=entropy, max_features=0.75, min_samples_leaf=16, min_samples_split=12, n_estimators=100), C=0.001, dual=False, loss=squared_hinge, penalty=l2, tol=1e-05), bootstrap=True, criterion=gini, max_features=0.7000000000000001, min_samples_leaf=11, min_samples_split=10, n_estimators=100)\n",
      "0.9473684210526315\n"
     ]
    },
    {
     "name": "stderr",
     "output_type": "stream",
     "text": [
      "/Users/parsanemati/Library/r-miniconda-arm64/envs/tpot/lib/python3.8/site-packages/sklearn/metrics/_scorer.py:765: FutureWarning: sklearn.metrics.SCORERS is deprecated and will be removed in v1.3. Please use sklearn.metrics.get_scorer_names to get a list of available scorers and sklearn.metrics.get_metric to get scorer.\n",
      "  warnings.warn(\n"
     ]
    }
   ],
   "source": [
    "from tpot import TPOTClassifier\n",
    "from sklearn.datasets import load_iris\n",
    "from sklearn.model_selection import train_test_split\n",
    "import numpy as np\n",
    "\n",
    "iris = load_iris()\n",
    "X_train, X_test, y_train, y_test = train_test_split(iris.data.astype(np.float64),\n",
    "    iris.target.astype(np.float64), train_size=0.75, test_size=0.25, random_state=42)\n",
    "\n",
    "tpot = TPOTClassifier(generations=5, population_size=50, verbosity=2, random_state=42 ,scoring=\"accuracy\")\n",
    "tpot.fit(X_train, y_train)\n",
    "print(tpot.score(X_test, y_test))\n",
    "tpot.export('tpot_iris_pipeline.py')\n"
   ]
  },
  {
   "cell_type": "code",
   "execution_count": 1,
   "id": "c3a37937-bfef-4c11-92dc-3617f19a36f6",
   "metadata": {},
   "outputs": [
    {
     "name": "stderr",
     "output_type": "stream",
     "text": [
      "/Users/parsanemati/Library/r-miniconda-arm64/envs/tpot/lib/python3.8/site-packages/tpot/builtins/__init__.py:36: UserWarning: Warning: optional dependency `torch` is not available. - skipping import of NN models.\n",
      "  warnings.warn(\"Warning: optional dependency `torch` is not available. - skipping import of NN models.\")\n"
     ]
    },
    {
     "name": "stdout",
     "output_type": "stream",
     "text": [
      "                                                                                                                                      \n",
      "Generation 1 - Current best internal CV score: 0.9727272727272727\n",
      "                                                                                                                                      \n",
      "Generation 2 - Current best internal CV score: 0.9727272727272727\n",
      "                                                                                                                                      \n",
      "Generation 3 - Current best internal CV score: 0.9727272727272727\n",
      "                                                                                                                                      \n",
      "Generation 4 - Current best internal CV score: 0.9731225296442687\n",
      "                                                                                                                                      \n",
      "Generation 5 - Current best internal CV score: 0.9818181818181818\n",
      "                                                                                                                                      \n",
      "Best pipeline: RandomForestClassifier(LinearSVC(RandomForestClassifier(RBFSampler(input_matrix, gamma=0.30000000000000004), bootstrap=False, criterion=entropy, max_features=0.75, min_samples_leaf=16, min_samples_split=12, n_estimators=100), C=0.001, dual=False, loss=squared_hinge, penalty=l2, tol=1e-05), bootstrap=True, criterion=gini, max_features=0.7000000000000001, min_samples_leaf=11, min_samples_split=10, n_estimators=100)\n",
      "0.9473684210526315\n"
     ]
    },
    {
     "name": "stderr",
     "output_type": "stream",
     "text": [
      "/Users/parsanemati/Library/r-miniconda-arm64/envs/tpot/lib/python3.8/site-packages/sklearn/metrics/_scorer.py:765: FutureWarning: sklearn.metrics.SCORERS is deprecated and will be removed in v1.3. Please use sklearn.metrics.get_scorer_names to get a list of available scorers and sklearn.metrics.get_metric to get scorer.\n",
      "  warnings.warn(\n"
     ]
    }
   ],
   "source": [
    "from tpot import TPOTClassifier\n",
    "from sklearn.datasets import load_iris\n",
    "from sklearn.model_selection import train_test_split\n",
    "import numpy as np\n",
    "\n",
    "iris = load_iris()\n",
    "X_train, X_test, y_train, y_test = train_test_split(iris.data.astype(np.float64),\n",
    "    iris.target.astype(np.float64), train_size=0.75, test_size=0.25, random_state=42)\n",
    "\n",
    "tpot = TPOTClassifier(generations=5, population_size=50, verbosity=2, random_state=42 ,\n",
    "                      scoring=\"accuracy\" , use_dask=True)\n",
    "tpot.fit(X_train, y_train)\n",
    "print(tpot.score(X_test, y_test))"
   ]
  },
  {
   "cell_type": "code",
   "execution_count": 3,
   "id": "3fadb1e8-b969-4324-9e51-36b021110d44",
   "metadata": {},
   "outputs": [
    {
     "name": "stdout",
     "output_type": "stream",
     "text": [
      "                                                                                                                                      \n",
      "Generation 1 - Current best internal CV score: 0.9727272727272727\n",
      "                                                                                                                                      \n",
      "Generation 2 - Current best internal CV score: 0.9818181818181818\n",
      "                                                                                                                                      \n",
      "Generation 3 - Current best internal CV score: 0.9818181818181818\n",
      "                                                                                                                                      \n",
      "Generation 4 - Current best internal CV score: 0.9818181818181818\n",
      "                                                                                                                                      \n",
      "Generation 5 - Current best internal CV score: 0.9818181818181818\n",
      "                                                                                                                                      \n",
      "Best pipeline: KNeighborsClassifier(Normalizer(input_matrix, norm=l2), n_neighbors=4, p=2, weights=distance)\n",
      "0.9736842105263158\n"
     ]
    },
    {
     "name": "stderr",
     "output_type": "stream",
     "text": [
      "/Users/parsanemati/Library/r-miniconda-arm64/envs/tpot/lib/python3.8/site-packages/sklearn/metrics/_scorer.py:765: FutureWarning: sklearn.metrics.SCORERS is deprecated and will be removed in v1.3. Please use sklearn.metrics.get_scorer_names to get a list of available scorers and sklearn.metrics.get_metric to get scorer.\n",
      "  warnings.warn(\n"
     ]
    }
   ],
   "source": [
    "from tpot import TPOTClassifier\n",
    "from sklearn.datasets import load_iris\n",
    "from sklearn.model_selection import train_test_split\n",
    "import numpy as np\n",
    "\n",
    "iris = load_iris()\n",
    "X_train, X_test, y_train, y_test = train_test_split(iris.data.astype(np.float64),\n",
    "    iris.target.astype(np.float64), train_size=0.75, test_size=0.25, random_state=42)\n",
    "\n",
    "tpot = TPOTClassifier(generations=5, population_size=50, verbosity=2, random_state=42 ,\n",
    "                      scoring=\"accuracy\" , use_dask=True , config_dict='TPOT light')\n",
    "tpot.fit(X_train, y_train)\n",
    "print(tpot.score(X_test, y_test))"
   ]
  },
  {
   "cell_type": "code",
   "execution_count": 6,
   "id": "e5e3c98b-2ebc-4d0e-afdd-c9e4d9d6e004",
   "metadata": {},
   "outputs": [
    {
     "name": "stdout",
     "output_type": "stream",
     "text": [
      "                                                                                                                                      \n",
      "Generation 1 - Current best internal CV score: 0.9727272727272727\n",
      "                                                                                                                                      \n",
      "Generation 2 - Current best internal CV score: 0.9727272727272727\n",
      "                                                                                                                                      \n",
      "Generation 3 - Current best internal CV score: 0.9727272727272727\n",
      "                                                                                                                                      \n",
      "Generation 4 - Current best internal CV score: 0.9731225296442687\n",
      "                                                                                                                                      \n",
      "Generation 5 - Current best internal CV score: 0.9818181818181818\n",
      "                                                                                                                                      \n",
      "Best pipeline: RandomForestClassifier(LinearSVC(RandomForestClassifier(RBFSampler(input_matrix, gamma=0.30000000000000004), bootstrap=False, criterion=entropy, max_features=0.75, min_samples_leaf=16, min_samples_split=12, n_estimators=100), C=0.001, dual=False, loss=squared_hinge, penalty=l2, tol=1e-05), bootstrap=True, criterion=gini, max_features=0.7000000000000001, min_samples_leaf=11, min_samples_split=10, n_estimators=100)\n",
      "0.9473684210526315\n"
     ]
    },
    {
     "name": "stderr",
     "output_type": "stream",
     "text": [
      "/Users/parsanemati/Library/r-miniconda-arm64/envs/tpot/lib/python3.8/site-packages/sklearn/metrics/_scorer.py:765: FutureWarning: sklearn.metrics.SCORERS is deprecated and will be removed in v1.3. Please use sklearn.metrics.get_scorer_names to get a list of available scorers and sklearn.metrics.get_metric to get scorer.\n",
      "  warnings.warn(\n"
     ]
    }
   ],
   "source": [
    "\n",
    "\n",
    "from tpot import TPOTClassifier\n",
    "from sklearn.datasets import load_iris\n",
    "from sklearn.model_selection import train_test_split\n",
    "import numpy as np\n",
    "\n",
    "iris = load_iris()\n",
    "X_train, X_test, y_train, y_test = train_test_split(iris.data.astype(np.float64),\n",
    "    iris.target.astype(np.float64), train_size=0.75, test_size=0.25, random_state=42)\n",
    "\n",
    "tpot = TPOTClassifier(generations=5, population_size=50, verbosity=2, random_state=42 ,\n",
    "                      scoring=\"accuracy\" , use_dask=True , config_dict='')\n",
    "tpot.fit(X_train, y_train)\n",
    "print(tpot.score(X_test, y_test))"
   ]
  },
  {
   "cell_type": "code",
   "execution_count": 9,
   "id": "2b1e2ad1-4ce3-46ba-aa88-a1c05d9b4d0b",
   "metadata": {},
   "outputs": [
    {
     "name": "stdout",
     "output_type": "stream",
     "text": [
      "                                                                                                                                      \n",
      "Generation 1 - Current best internal CV score: 0.9711613745106569\n",
      "                                                                                                                                      \n",
      "Generation 2 - Current best internal CV score: 0.9711613745106569\n",
      "                                                                                                                                      \n",
      "Generation 3 - Current best internal CV score: 0.9725833785424578\n",
      "                                                                                                                                      \n",
      "Generation 4 - Current best internal CV score: 0.9725833785424578\n",
      "                                                                                                                                      \n",
      "Generation 5 - Current best internal CV score: 0.9725833785424578\n",
      "                                                                                                                                      \n",
      "Best pipeline: RandomForestClassifier(Normalizer(PolynomialFeatures(input_matrix, degree=2, include_bias=False, interaction_only=False), norm=l2), bootstrap=True, criterion=gini, max_features=0.7000000000000001, min_samples_leaf=11, min_samples_split=10, n_estimators=100)\n",
      "0.9736842105263158\n"
     ]
    },
    {
     "name": "stderr",
     "output_type": "stream",
     "text": [
      "/Users/parsanemati/Library/r-miniconda-arm64/envs/tpot/lib/python3.8/site-packages/sklearn/metrics/_scorer.py:765: FutureWarning: sklearn.metrics.SCORERS is deprecated and will be removed in v1.3. Please use sklearn.metrics.get_scorer_names to get a list of available scorers and sklearn.metrics.get_metric to get scorer.\n",
      "  warnings.warn(\n"
     ]
    }
   ],
   "source": [
    "from tpot import TPOTClassifier\n",
    "from sklearn.datasets import load_iris\n",
    "from sklearn.model_selection import train_test_split\n",
    "import numpy as np\n",
    "\n",
    "iris = load_iris()\n",
    "X_train, X_test, y_train, y_test = train_test_split(iris.data.astype(np.float64),\n",
    "    iris.target.astype(np.float64), train_size=0.75, test_size=0.25, random_state=42)\n",
    "\n",
    "tpot = TPOTClassifier(generations=5, population_size=50, verbosity=2, random_state=42 ,\n",
    "                      scoring=\"f1_weighted\" , use_dask=True , config_dict='' , n_jobs=-1)\n",
    "tpot.fit(X_train, y_train)\n",
    "print(tpot.score(X_test, y_test))"
   ]
  },
  {
   "cell_type": "markdown",
   "id": "c6ceedab-6dcf-4654-ab10-8da4adc65c59",
   "metadata": {},
   "source": [
    "## Other Scores\n",
    "List OF Scores:\n",
    "\n",
    "- 'accuracy', \n",
    "- 'adjusted_rand_score', \n",
    "- 'average_precision', \n",
    "- 'balanced_accuracy',\n",
    "- 'f1', \n",
    "- 'f1_macro', \n",
    "- 'f1_micro', \n",
    "- 'f1_samples', \n",
    "- 'f1_weighted', \n",
    "- 'neg_log_loss',\n",
    "- 'neg_mean_absolute_error', \n",
    "- 'neg_mean_squared_error', \n",
    "- 'neg_median_absolute_error', \n",
    "- 'precision', \n",
    "- 'precision_macro', \n",
    "- 'precision_micro', \n",
    "- 'precision_samples', \n",
    "- 'precision_weighted',\n",
    "- 'r2', \n",
    "- 'recall', \n",
    "- 'recall_macro', \n",
    "- 'recall_micro', \n",
    "- 'recall_samples', \n",
    "- 'recall_weighted', \n",
    "- 'roc_auc', \n",
    "- 'my_module.scorer_name*'"
   ]
  },
  {
   "cell_type": "code",
   "execution_count": 15,
   "id": "2307d613-aa1b-46e9-80d0-4fd41d241ad6",
   "metadata": {},
   "outputs": [
    {
     "name": "stdout",
     "output_type": "stream",
     "text": [
      "                                                                                \n",
      "Generation 1 - Current best internal CV score: 0.9818181818181818\n",
      "                                                                                \n",
      "Generation 2 - Current best internal CV score: 0.9818181818181818\n",
      "                                                                                \n",
      "Generation 3 - Current best internal CV score: 0.9818181818181818\n",
      "                                                                                \n",
      "Generation 4 - Current best internal CV score: 0.9818181818181818\n",
      "                                                                                \n",
      "Generation 5 - Current best internal CV score: 0.9866666666666667\n",
      "                                                                                \n",
      "Best pipeline: DecisionTreeClassifier(KNeighborsClassifier(Normalizer(input_matrix, norm=l2), n_neighbors=14, p=1, weights=uniform), criterion=gini, max_depth=5, min_samples_leaf=1, min_samples_split=11)\n",
      "0.9722222222222222\n"
     ]
    },
    {
     "name": "stderr",
     "output_type": "stream",
     "text": [
      "/Users/parsanemati/Library/r-miniconda-arm64/envs/tpot/lib/python3.8/site-packages/sklearn/metrics/_scorer.py:765: FutureWarning: sklearn.metrics.SCORERS is deprecated and will be removed in v1.3. Please use sklearn.metrics.get_scorer_names to get a list of available scorers and sklearn.metrics.get_metric to get scorer.\n",
      "  warnings.warn(\n"
     ]
    }
   ],
   "source": [
    "tpot_precision = TPOTClassifier(generations=5, population_size=50, verbosity=2, random_state=42 ,\n",
    "                                scoring = 'precision_macro')\n",
    "tpot_precision.fit(X_train, y_train)\n",
    "print(tpot_precision.score(X_test, y_test))\n"
   ]
  },
  {
   "cell_type": "code",
   "execution_count": 17,
   "id": "3606e402-cc24-448a-bdd2-00cd9cbe5d25",
   "metadata": {},
   "outputs": [
    {
     "name": "stdout",
     "output_type": "stream",
     "text": [
      "19 operators have been imported by TPOT.\n",
      "_pre_test decorator: _random_mutation_operator: num_test=0 Solver lbfgs supports only 'l2' or 'none' penalties, got l1 penalty..\n",
      "_pre_test decorator: _random_mutation_operator: num_test=0 Negative values in data passed to MultinomialNB (input X).\n",
      "                                                                                \n",
      "Generation 1 - Current Pareto front scores:\n",
      "                                                                                \n",
      "-1\t0.9571428571428573\tMultinomialNB(input_matrix, MultinomialNB__alpha=1.0, MultinomialNB__fit_prior=True)\n",
      "                                                                                \n",
      "-2\t0.9654761904761905\tKNeighborsClassifier(MultinomialNB(input_matrix, MultinomialNB__alpha=100.0, MultinomialNB__fit_prior=False), KNeighborsClassifier__n_neighbors=45, KNeighborsClassifier__p=1, KNeighborsClassifier__weights=distance)\n",
      "_pre_test decorator: _random_mutation_operator: num_test=0 Solver lbfgs supports only 'l2' or 'none' penalties, got l1 penalty..\n",
      "_pre_test decorator: _random_mutation_operator: num_test=0 Solver lbfgs supports only 'l2' or 'none' penalties, got l1 penalty..\n",
      "_pre_test decorator: _random_mutation_operator: num_test=0 Negative values in data passed to MultinomialNB (input X).\n",
      "_pre_test decorator: _random_mutation_operator: num_test=0 Solver lbfgs supports only dual=False, got dual=True.\n",
      "_pre_test decorator: _random_mutation_operator: num_test=0 Solver lbfgs supports only 'l2' or 'none' penalties, got l1 penalty..\n",
      "                                                                                \n",
      "Generation 2 - Current Pareto front scores:\n",
      "                                                                                \n",
      "-1\t0.9654761904761905\tMultinomialNB(input_matrix, MultinomialNB__alpha=0.001, MultinomialNB__fit_prior=True)\n",
      "0.9722222222222222                                                              \n"
     ]
    },
    {
     "name": "stderr",
     "output_type": "stream",
     "text": [
      "/Users/parsanemati/Library/r-miniconda-arm64/envs/tpot/lib/python3.8/site-packages/sklearn/metrics/_scorer.py:765: FutureWarning: sklearn.metrics.SCORERS is deprecated and will be removed in v1.3. Please use sklearn.metrics.get_scorer_names to get a list of available scorers and sklearn.metrics.get_metric to get scorer.\n",
      "  warnings.warn(\n"
     ]
    }
   ],
   "source": [
    "tpot = TPOTClassifier(generations=2, population_size=20, verbosity=3, scoring = 'recall_macro',config_dict='TPOT light')\n",
    "tpot.fit(X_train, y_train)\n",
    "print(tpot.score(X_test, y_test))\n"
   ]
  },
  {
   "cell_type": "code",
   "execution_count": null,
   "id": "aee7b5fe-2bc9-48c1-ab63-f339ed739c6a",
   "metadata": {},
   "outputs": [],
   "source": [
    "from tpot import TPOTClassifier\n",
    "from sklearn.datasets import load_iris\n",
    "from sklearn.model_selection import train_test_split\n",
    "import numpy as np\n",
    "\n",
    "iris = load_iris()\n",
    "X_train, X_test, y_train, y_test = train_test_split(iris.data.astype(np.float64),\n",
    "    iris.target.astype(np.float64), train_size=0.75, test_size=0.25, random_state=42)\n",
    "\n",
    "tpot = TPOTClassifier(generations=5, population_size=50, verbosity=3, random_state=42 ,\n",
    "                      scoring=\"accuracy\" , use_dask=True , con)\n",
    "tpot.fit(X_train, y_train)\n",
    "print(tpot.score(X_test, y_test))"
   ]
  },
  {
   "cell_type": "code",
   "execution_count": null,
   "id": "5e44c348-b144-4061-a92e-9da08b4f2811",
   "metadata": {},
   "outputs": [],
   "source": []
  },
  {
   "cell_type": "code",
   "execution_count": null,
   "id": "1e5c503d-b2ca-409a-a833-0065521ca91e",
   "metadata": {},
   "outputs": [],
   "source": []
  },
  {
   "cell_type": "code",
   "execution_count": null,
   "id": "421bdc59-4fdf-4bbd-9050-99650e4bc77c",
   "metadata": {},
   "outputs": [],
   "source": []
  },
  {
   "cell_type": "code",
   "execution_count": null,
   "id": "dfe6472e-fdaa-4159-b6b6-9e7b0d3bd3ec",
   "metadata": {},
   "outputs": [],
   "source": []
  },
  {
   "cell_type": "code",
   "execution_count": null,
   "id": "8c513dcd-be17-4680-8dd1-fda4194845ba",
   "metadata": {},
   "outputs": [],
   "source": []
  },
  {
   "cell_type": "code",
   "execution_count": null,
   "id": "ddb9bfdd-1ee1-4d1d-a0cd-fbeaec169ffa",
   "metadata": {},
   "outputs": [],
   "source": []
  },
  {
   "cell_type": "code",
   "execution_count": 3,
   "id": "a107a58f-1bbf-4aca-bcfc-67b27f4a0dc7",
   "metadata": {},
   "outputs": [],
   "source": [
    "import numpy as np\n",
    "import pandas as pd\n",
    "from sklearn.model_selection import train_test_split\n",
    "from sklearn.neighbors import KNeighborsClassifier\n",
    "from sklearn.pipeline import make_pipeline\n",
    "from sklearn.preprocessing import Normalizer\n",
    "from tpot.export_utils import set_param_recursive\n",
    "\n",
    "# NOTE: Make sure that the outcome column is labeled 'target' in the data file\n",
    "tpot_data = pd.read_csv('./data_image/iris.csv', sep=',')\n",
    "features = tpot_data.drop('species', axis=1)\n",
    "training_features, testing_features, training_target, testing_target = \\\n",
    "            train_test_split(features, tpot_data['species'], random_state=42)\n",
    "\n",
    "# Average CV score on the training set was: 0.9826086956521738\n",
    "exported_pipeline = make_pipeline(\n",
    "    Normalizer(norm=\"l2\"),\n",
    "    KNeighborsClassifier(n_neighbors=5, p=2, weights=\"distance\")\n",
    ")\n",
    "# Fix random state for all the steps in exported pipeline\n",
    "set_param_recursive(exported_pipeline.steps, 'random_state', 42)\n",
    "\n",
    "exported_pipeline.fit(training_features, training_target)\n",
    "results = exported_pipeline.predict(testing_features)\n"
   ]
  },
  {
   "cell_type": "code",
   "execution_count": 4,
   "id": "d252d913-d375-4275-aad8-8e05eda38ad8",
   "metadata": {},
   "outputs": [
    {
     "data": {
      "text/plain": [
       "array(['sepal_length', 'sepal_width', 'petal_length', 'petal_width'],\n",
       "      dtype=object)"
      ]
     },
     "execution_count": 4,
     "metadata": {},
     "output_type": "execute_result"
    }
   ],
   "source": [
    "exported_pipeline.feature_names_in_"
   ]
  },
  {
   "cell_type": "code",
   "execution_count": 5,
   "id": "1af39562-0045-4a48-a4f5-7b9e4eaf4676",
   "metadata": {},
   "outputs": [
    {
     "data": {
      "text/plain": [
       "<bound method Pipeline.get_params of Pipeline(steps=[('normalizer', Normalizer()),\n",
       "                ('kneighborsclassifier',\n",
       "                 KNeighborsClassifier(weights='distance'))])>"
      ]
     },
     "execution_count": 5,
     "metadata": {},
     "output_type": "execute_result"
    }
   ],
   "source": [
    "exported_pipeline.get_params"
   ]
  },
  {
   "cell_type": "markdown",
   "id": "f4ce10b6-67fb-4bba-8ffd-f5701e79b3d5",
   "metadata": {},
   "source": [
    "## Digits dataset\n"
   ]
  },
  {
   "cell_type": "code",
   "execution_count": 6,
   "id": "42cec78b-2d1c-4952-bcd3-f72b106bf16d",
   "metadata": {},
   "outputs": [
    {
     "name": "stdout",
     "output_type": "stream",
     "text": [
      "                                                                                \n",
      "Generation 1 - Current best internal CV score: 0.9844058928817294\n",
      "                                                                                \n",
      "Generation 2 - Current best internal CV score: 0.9866363761531047\n",
      "                                                                                \n",
      "Generation 3 - Current best internal CV score: 0.9866363761531047\n",
      "                                                                                \n",
      "Generation 4 - Current best internal CV score: 0.9866363761531047\n",
      "                                                                                \n",
      "Generation 5 - Current best internal CV score: 0.9866363761531047\n",
      "                                                                                \n",
      "Best pipeline: KNeighborsClassifier(input_matrix, n_neighbors=2, p=2, weights=distance)\n",
      "0.9822222222222222\n"
     ]
    },
    {
     "name": "stderr",
     "output_type": "stream",
     "text": [
      "/Users/parsanemati/Library/r-miniconda-arm64/envs/tpot/lib/python3.8/site-packages/sklearn/metrics/_scorer.py:765: FutureWarning: sklearn.metrics.SCORERS is deprecated and will be removed in v1.3. Please use sklearn.metrics.get_scorer_names to get a list of available scorers and sklearn.metrics.get_metric to get scorer.\n",
      "  warnings.warn(\n"
     ]
    }
   ],
   "source": [
    "from tpot import TPOTClassifier\n",
    "from sklearn.datasets import load_digits\n",
    "from sklearn.model_selection import train_test_split\n",
    "\n",
    "digits = load_digits()\n",
    "X_train, X_test, y_train, y_test = train_test_split(digits.data, digits.target,\n",
    "                                                    train_size=0.75, test_size=0.25, random_state=42)\n",
    "\n",
    "tpot = TPOTClassifier(generations=5, population_size=50, verbosity=2, random_state=42)\n",
    "tpot.fit(X_train, y_train)\n",
    "print(tpot.score(X_test, y_test))\n",
    "# tpot.export('tpot_digits_pipeline.py')\n"
   ]
  },
  {
   "cell_type": "markdown",
   "id": "f2dcd395-f536-48c0-9c95-21fa7b51f23a",
   "metadata": {},
   "source": [
    "# Regression\n",
    "Similarly, TPOT can optimize pipelines for regression problems. Below is a minimal working example with the practice Boston housing prices data set."
   ]
  },
  {
   "cell_type": "code",
   "execution_count": 18,
   "id": "e4287a90-8af6-43ff-a252-1c56ac2bdde2",
   "metadata": {},
   "outputs": [
    {
     "name": "stderr",
     "output_type": "stream",
     "text": [
      "/Users/parsanemati/Library/r-miniconda-arm64/envs/tpot/lib/python3.8/site-packages/sklearn/utils/deprecation.py:87: FutureWarning: Function load_boston is deprecated; `load_boston` is deprecated in 1.0 and will be removed in 1.2.\n",
      "\n",
      "    The Boston housing prices dataset has an ethical problem. You can refer to\n",
      "    the documentation of this function for further details.\n",
      "\n",
      "    The scikit-learn maintainers therefore strongly discourage the use of this\n",
      "    dataset unless the purpose of the code is to study and educate about\n",
      "    ethical issues in data science and machine learning.\n",
      "\n",
      "    In this special case, you can fetch the dataset from the original\n",
      "    source::\n",
      "\n",
      "        import pandas as pd\n",
      "        import numpy as np\n",
      "\n",
      "        data_url = \"http://lib.stat.cmu.edu/datasets/boston\"\n",
      "        raw_df = pd.read_csv(data_url, sep=\"\\s+\", skiprows=22, header=None)\n",
      "        data = np.hstack([raw_df.values[::2, :], raw_df.values[1::2, :2]])\n",
      "        target = raw_df.values[1::2, 2]\n",
      "\n",
      "    Alternative datasets include the California housing dataset (i.e.\n",
      "    :func:`~sklearn.datasets.fetch_california_housing`) and the Ames housing\n",
      "    dataset. You can load the datasets as follows::\n",
      "\n",
      "        from sklearn.datasets import fetch_california_housing\n",
      "        housing = fetch_california_housing()\n",
      "\n",
      "    for the California housing dataset and::\n",
      "\n",
      "        from sklearn.datasets import fetch_openml\n",
      "        housing = fetch_openml(name=\"house_prices\", as_frame=True)\n",
      "\n",
      "    for the Ames housing dataset.\n",
      "  warnings.warn(msg, category=FutureWarning)\n"
     ]
    },
    {
     "name": "stdout",
     "output_type": "stream",
     "text": [
      "                                                                                \n",
      "Generation 1 - Current best internal CV score: -11.644597516229156\n",
      "                                                                                \n",
      "Generation 2 - Current best internal CV score: -11.644597516229156\n",
      "                                                                                \n",
      "Generation 3 - Current best internal CV score: -11.644597516229156\n",
      "                                                                                \n",
      "Generation 4 - Current best internal CV score: -11.644597516229156\n",
      "                                                                                \n",
      "Generation 5 - Current best internal CV score: -11.644597516229156\n",
      "                                                                                \n",
      "Best pipeline: XGBRegressor(input_matrix, learning_rate=0.1, max_depth=6, min_child_weight=11, n_estimators=100, n_jobs=1, objective=reg:squarederror, subsample=0.7000000000000001, verbosity=0)\n",
      "-11.23979312363286\n"
     ]
    },
    {
     "name": "stderr",
     "output_type": "stream",
     "text": [
      "/Users/parsanemati/Library/r-miniconda-arm64/envs/tpot/lib/python3.8/site-packages/sklearn/metrics/_scorer.py:765: FutureWarning: sklearn.metrics.SCORERS is deprecated and will be removed in v1.3. Please use sklearn.metrics.get_scorer_names to get a list of available scorers and sklearn.metrics.get_metric to get scorer.\n",
      "  warnings.warn(\n"
     ]
    }
   ],
   "source": [
    "from tpot import TPOTRegressor\n",
    "from sklearn.datasets import load_boston\n",
    "from sklearn.model_selection import train_test_split\n",
    "\n",
    "housing = load_boston()\n",
    "X_train, X_test, y_train, y_test = train_test_split(housing.data, housing.target,\n",
    "                                                    train_size=0.75, test_size=0.25, random_state=42)\n",
    "\n",
    "tpot = TPOTRegressor(generations=5, population_size=50, verbosity=2, random_state=42)\n",
    "tpot.fit(X_train, y_train)\n",
    "print(tpot.score(X_test, y_test))\n",
    "# tpot.export('tpot_boston_pipeline.py')"
   ]
  },
  {
   "cell_type": "code",
   "execution_count": null,
   "id": "e9ed9d02-5696-45db-a5cf-8711b16e3918",
   "metadata": {},
   "outputs": [],
   "source": []
  }
 ],
 "metadata": {
  "kernelspec": {
   "display_name": "tpot",
   "language": "python",
   "name": "tpot"
  },
  "language_info": {
   "codemirror_mode": {
    "name": "ipython",
    "version": 3
   },
   "file_extension": ".py",
   "mimetype": "text/x-python",
   "name": "python",
   "nbconvert_exporter": "python",
   "pygments_lexer": "ipython3",
   "version": "3.8.13"
  },
  "widgets": {
   "application/vnd.jupyter.widget-state+json": {
    "state": {},
    "version_major": 2,
    "version_minor": 0
   }
  }
 },
 "nbformat": 4,
 "nbformat_minor": 5
}
