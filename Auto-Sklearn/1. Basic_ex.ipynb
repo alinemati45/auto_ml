{
  "cells": [
    {
      "cell_type": "code",
      "execution_count": null,
      "metadata": {
        "id": "a8OmmsluEKQF",
        "jupyter": {
          "outputs_hidden": false
        }
      },
      "outputs": [],
      "source": [
        "%matplotlib inline"
      ]
    },
    {
      "cell_type": "markdown",
      "metadata": {
        "id": "bMxz9zckEKQI"
      },
      "source": [
        "\n",
        "# Classification\n",
        "\n",
        "The following example shows how to fit a simple classification model with\n",
        "*auto-sklearn*.\n"
      ]
    },
    {
      "cell_type": "code",
      "execution_count": 4,
      "metadata": {
        "id": "Ichtrd9TEKQJ"
      },
      "outputs": [],
      "source": [
        "# !pip install auto-sklearn\n",
        "\n",
        "# $ brew install swig\n",
        "# $ brew link swig\n",
        "# $ pip install auto-sklearn\n"
      ]
    },
    {
      "cell_type": "code",
      "execution_count": 2,
      "metadata": {
        "id": "gM7VMGZEEKQK",
        "jupyter": {
          "outputs_hidden": false
        }
      },
      "outputs": [],
      "source": [
        "from pprint import pprint\n",
        "\n",
        "import sklearn.datasets\n",
        "import sklearn.metrics\n",
        "\n",
        "import autosklearn.classification"
      ]
    },
    {
      "cell_type": "markdown",
      "metadata": {
        "id": "vjrnJ1oaEKQK"
      },
      "source": [
        "## Data Loading\n",
        "\n"
      ]
    },
    {
      "cell_type": "code",
      "execution_count": 3,
      "metadata": {
        "colab": {
          "base_uri": "https://localhost:8080/"
        },
        "id": "Brz1bvr9EKQL",
        "jupyter": {
          "outputs_hidden": false
        },
        "outputId": "16c6c38b-3741-4aaf-8557-a7bd2d76ddf2"
      },
      "outputs": [
        {
          "output_type": "execute_result",
          "data": {
            "text/plain": [
              "((426, 30), (143, 30), (426,), (143,))"
            ]
          },
          "metadata": {},
          "execution_count": 3
        }
      ],
      "source": [
        "X, y = sklearn.datasets.load_breast_cancer(return_X_y=True)\n",
        "X_train, X_test, y_train, y_test = sklearn.model_selection.train_test_split(\n",
        "    X, y, random_state=1\n",
        ")\n",
        "\n",
        "X_train.shape, X_test.shape, y_train.shape, y_test.shape"
      ]
    },
    {
      "cell_type": "markdown",
      "metadata": {
        "id": "jsmzJJdwEKQL"
      },
      "source": [
        "## Build and fit a classifier\n",
        "\n"
      ]
    },
    {
      "cell_type": "code",
      "execution_count": 4,
      "metadata": {
        "colab": {
          "base_uri": "https://localhost:8080/"
        },
        "id": "7e2Cr3FkEKQL",
        "jupyter": {
          "outputs_hidden": false
        },
        "outputId": "530de873-db1d-4915-fa4a-052c411f79cd"
      },
      "outputs": [
        {
          "output_type": "execute_result",
          "data": {
            "text/plain": [
              "AutoSklearnClassifier(ensemble_class=<class 'autosklearn.ensembles.ensemble_selection.EnsembleSelection'>,\n",
              "                      per_run_time_limit=30, time_left_for_this_task=120,\n",
              "                      tmp_folder='/tmp/autosklearn_classification_example_tmp')"
            ]
          },
          "metadata": {},
          "execution_count": 4
        }
      ],
      "source": [
        "automl = autosklearn.classification.AutoSklearnClassifier(\n",
        "    time_left_for_this_task=120,\n",
        "    per_run_time_limit=30,\n",
        "    tmp_folder=\"/tmp/autosklearn_classification_example_tmp\",\n",
        ")\n",
        "automl.fit(X_train, y_train, dataset_name=\"breast_cancer\")"
      ]
    },
    {
      "cell_type": "markdown",
      "metadata": {
        "id": "9bQvNZdCEKQM"
      },
      "source": [
        "## View the models found by auto-sklearn\n",
        "\n"
      ]
    },
    {
      "cell_type": "code",
      "execution_count": null,
      "metadata": {
        "colab": {
          "base_uri": "https://localhost:8080/"
        },
        "id": "YUBMhFNiEKQM",
        "jupyter": {
          "outputs_hidden": false
        },
        "outputId": "3b2c8612-a986-4699-923b-a947dfb783da"
      },
      "outputs": [
        {
          "name": "stdout",
          "output_type": "stream",
          "text": [
            "          rank  ensemble_weight                type      cost  duration\n",
            "model_id                                                               \n",
            "7            1             0.12         extra_trees  0.014184  1.869988\n",
            "16           2             0.06   gradient_boosting  0.021277  1.358258\n",
            "21           3             0.04         extra_trees  0.021277  1.732414\n",
            "31           4             0.14         extra_trees  0.021277  2.220872\n",
            "2            8             0.02       random_forest  0.028369  2.064990\n",
            "3           11             0.06                 mlp  0.028369  1.373552\n",
            "6           10             0.04                 mlp  0.028369  1.407947\n",
            "9            9             0.04         extra_trees  0.028369  2.222528\n",
            "11          12             0.02       random_forest  0.028369  2.639387\n",
            "19           7             0.04         extra_trees  0.028369  3.397437\n",
            "22           6             0.08   gradient_boosting  0.028369  1.352810\n",
            "26           5             0.02         extra_trees  0.028369  2.754200\n",
            "5           16             0.04       random_forest  0.035461  2.474513\n",
            "8           15             0.04       random_forest  0.035461  2.349324\n",
            "12          13             0.02   gradient_boosting  0.035461  1.618362\n",
            "17          14             0.04   gradient_boosting  0.035461  1.966430\n",
            "32          17             0.06         extra_trees  0.042553  2.650210\n",
            "29          18             0.04       liblinear_svc  0.049645  1.275848\n",
            "20          19             0.02  passive_aggressive  0.078014  0.996208\n",
            "27          20             0.06                 qda  0.191489  1.575824\n"
          ]
        }
      ],
      "source": [
        "print(automl.leaderboard())"
      ]
    },
    {
      "cell_type": "markdown",
      "metadata": {
        "id": "SRz45vpaEKQN"
      },
      "source": [
        "## Print the final ensemble constructed by auto-sklearn\n",
        "\n"
      ]
    },
    {
      "cell_type": "code",
      "execution_count": null,
      "metadata": {
        "colab": {
          "base_uri": "https://localhost:8080/"
        },
        "id": "5F3qjY3hEKQN",
        "jupyter": {
          "outputs_hidden": false
        },
        "outputId": "9e7cac3b-dba7-4327-da08-f3db03fb5ed5"
      },
      "outputs": [
        {
          "name": "stdout",
          "output_type": "stream",
          "text": [
            "{   2: {   'balancing': Balancing(random_state=1),\n",
            "           'classifier': <autosklearn.pipeline.components.classification.ClassifierChoice object at 0x7fd8d29ac950>,\n",
            "           'cost': 0.028368794326241176,\n",
            "           'data_preprocessor': <autosklearn.pipeline.components.data_preprocessing.DataPreprocessorChoice object at 0x7fd8ce29a690>,\n",
            "           'ensemble_weight': 0.02,\n",
            "           'feature_preprocessor': <autosklearn.pipeline.components.feature_preprocessing.FeaturePreprocessorChoice object at 0x7fd8d29acf10>,\n",
            "           'model_id': 2,\n",
            "           'rank': 1,\n",
            "           'sklearn_classifier': RandomForestClassifier(max_features=5, n_estimators=512, n_jobs=1,\n",
            "                       random_state=1, warm_start=True)},\n",
            "    3: {   'balancing': Balancing(random_state=1),\n",
            "           'classifier': <autosklearn.pipeline.components.classification.ClassifierChoice object at 0x7fd8ce23a390>,\n",
            "           'cost': 0.028368794326241176,\n",
            "           'data_preprocessor': <autosklearn.pipeline.components.data_preprocessing.DataPreprocessorChoice object at 0x7fd8ce460350>,\n",
            "           'ensemble_weight': 0.06,\n",
            "           'feature_preprocessor': <autosklearn.pipeline.components.feature_preprocessing.FeaturePreprocessorChoice object at 0x7fd8ce9605d0>,\n",
            "           'model_id': 3,\n",
            "           'rank': 2,\n",
            "           'sklearn_classifier': MLPClassifier(activation='tanh', alpha=0.0001363185819149026, beta_1=0.999,\n",
            "              beta_2=0.9, early_stopping=True,\n",
            "              hidden_layer_sizes=(115, 115, 115),\n",
            "              learning_rate_init=0.00018009776276177523, max_iter=32,\n",
            "              n_iter_no_change=32, random_state=1, verbose=0, warm_start=True)},\n",
            "    5: {   'balancing': Balancing(random_state=1, strategy='weighting'),\n",
            "           'classifier': <autosklearn.pipeline.components.classification.ClassifierChoice object at 0x7fd8ce1d2d90>,\n",
            "           'cost': 0.03546099290780147,\n",
            "           'data_preprocessor': <autosklearn.pipeline.components.data_preprocessing.DataPreprocessorChoice object at 0x7fd8ce256d50>,\n",
            "           'ensemble_weight': 0.04,\n",
            "           'feature_preprocessor': <autosklearn.pipeline.components.feature_preprocessing.FeaturePreprocessorChoice object at 0x7fd8ce45f890>,\n",
            "           'model_id': 5,\n",
            "           'rank': 3,\n",
            "           'sklearn_classifier': RandomForestClassifier(criterion='entropy', max_features=3, min_samples_leaf=2,\n",
            "                       n_estimators=512, n_jobs=1, random_state=1,\n",
            "                       warm_start=True)},\n",
            "    6: {   'balancing': Balancing(random_state=1, strategy='weighting'),\n",
            "           'classifier': <autosklearn.pipeline.components.classification.ClassifierChoice object at 0x7fd8ce3df110>,\n",
            "           'cost': 0.028368794326241176,\n",
            "           'data_preprocessor': <autosklearn.pipeline.components.data_preprocessing.DataPreprocessorChoice object at 0x7fd8ce40d510>,\n",
            "           'ensemble_weight': 0.04,\n",
            "           'feature_preprocessor': <autosklearn.pipeline.components.feature_preprocessing.FeaturePreprocessorChoice object at 0x7fd8ce317dd0>,\n",
            "           'model_id': 6,\n",
            "           'rank': 4,\n",
            "           'sklearn_classifier': MLPClassifier(alpha=0.0017940473175767063, beta_1=0.999, beta_2=0.9,\n",
            "              early_stopping=True, hidden_layer_sizes=(101, 101),\n",
            "              learning_rate_init=0.0004684917334431039, max_iter=32,\n",
            "              n_iter_no_change=32, random_state=1, verbose=0, warm_start=True)},\n",
            "    7: {   'balancing': Balancing(random_state=1),\n",
            "           'classifier': <autosklearn.pipeline.components.classification.ClassifierChoice object at 0x7fd8ce237a50>,\n",
            "           'cost': 0.014184397163120588,\n",
            "           'data_preprocessor': <autosklearn.pipeline.components.data_preprocessing.DataPreprocessorChoice object at 0x7fd8d2c2eb10>,\n",
            "           'ensemble_weight': 0.12,\n",
            "           'feature_preprocessor': <autosklearn.pipeline.components.feature_preprocessing.FeaturePreprocessorChoice object at 0x7fd8ce237f90>,\n",
            "           'model_id': 7,\n",
            "           'rank': 5,\n",
            "           'sklearn_classifier': ExtraTreesClassifier(max_features=34, min_samples_leaf=3, min_samples_split=11,\n",
            "                     n_estimators=512, n_jobs=1, random_state=1,\n",
            "                     warm_start=True)},\n",
            "    8: {   'balancing': Balancing(random_state=1, strategy='weighting'),\n",
            "           'classifier': <autosklearn.pipeline.components.classification.ClassifierChoice object at 0x7fd8ce3474d0>,\n",
            "           'cost': 0.03546099290780147,\n",
            "           'data_preprocessor': <autosklearn.pipeline.components.data_preprocessing.DataPreprocessorChoice object at 0x7fd8ce289e90>,\n",
            "           'ensemble_weight': 0.04,\n",
            "           'feature_preprocessor': <autosklearn.pipeline.components.feature_preprocessing.FeaturePreprocessorChoice object at 0x7fd8ce28e2d0>,\n",
            "           'model_id': 8,\n",
            "           'rank': 6,\n",
            "           'sklearn_classifier': RandomForestClassifier(max_features=2, min_samples_leaf=2, n_estimators=512,\n",
            "                       n_jobs=1, random_state=1, warm_start=True)},\n",
            "    9: {   'balancing': Balancing(random_state=1, strategy='weighting'),\n",
            "           'classifier': <autosklearn.pipeline.components.classification.ClassifierChoice object at 0x7fd8cd0b2850>,\n",
            "           'cost': 0.028368794326241176,\n",
            "           'data_preprocessor': <autosklearn.pipeline.components.data_preprocessing.DataPreprocessorChoice object at 0x7fd8d2c4f750>,\n",
            "           'ensemble_weight': 0.04,\n",
            "           'feature_preprocessor': <autosklearn.pipeline.components.feature_preprocessing.FeaturePreprocessorChoice object at 0x7fd8d299c790>,\n",
            "           'model_id': 9,\n",
            "           'rank': 7,\n",
            "           'sklearn_classifier': ExtraTreesClassifier(max_features=8, min_samples_split=10, n_estimators=512,\n",
            "                     n_jobs=1, random_state=1, warm_start=True)},\n",
            "    11: {   'balancing': Balancing(random_state=1),\n",
            "            'classifier': <autosklearn.pipeline.components.classification.ClassifierChoice object at 0x7fd8ccb647d0>,\n",
            "            'cost': 0.028368794326241176,\n",
            "            'data_preprocessor': <autosklearn.pipeline.components.data_preprocessing.DataPreprocessorChoice object at 0x7fd8d2a08790>,\n",
            "            'ensemble_weight': 0.02,\n",
            "            'feature_preprocessor': <autosklearn.pipeline.components.feature_preprocessing.FeaturePreprocessorChoice object at 0x7fd8ccb64650>,\n",
            "            'model_id': 11,\n",
            "            'rank': 8,\n",
            "            'sklearn_classifier': RandomForestClassifier(criterion='entropy', max_features=23, min_samples_leaf=7,\n",
            "                       n_estimators=512, n_jobs=1, random_state=1,\n",
            "                       warm_start=True)},\n",
            "    12: {   'balancing': Balancing(random_state=1),\n",
            "            'classifier': <autosklearn.pipeline.components.classification.ClassifierChoice object at 0x7fd8ce286410>,\n",
            "            'cost': 0.03546099290780147,\n",
            "            'data_preprocessor': <autosklearn.pipeline.components.data_preprocessing.DataPreprocessorChoice object at 0x7fd8d299c1d0>,\n",
            "            'ensemble_weight': 0.02,\n",
            "            'feature_preprocessor': <autosklearn.pipeline.components.feature_preprocessing.FeaturePreprocessorChoice object at 0x7fd8ccef0110>,\n",
            "            'model_id': 12,\n",
            "            'rank': 9,\n",
            "            'sklearn_classifier': HistGradientBoostingClassifier(early_stopping=True,\n",
            "                               l2_regularization=0.005326508887463406,\n",
            "                               learning_rate=0.060800813211425456, max_iter=512,\n",
            "                               max_leaf_nodes=6, min_samples_leaf=5,\n",
            "                               n_iter_no_change=5, random_state=1,\n",
            "                               validation_fraction=None, warm_start=True)},\n",
            "    16: {   'balancing': Balancing(random_state=1, strategy='weighting'),\n",
            "            'classifier': <autosklearn.pipeline.components.classification.ClassifierChoice object at 0x7fd8ccb6b710>,\n",
            "            'cost': 0.021276595744680882,\n",
            "            'data_preprocessor': <autosklearn.pipeline.components.data_preprocessing.DataPreprocessorChoice object at 0x7fd8ce3fb550>,\n",
            "            'ensemble_weight': 0.06,\n",
            "            'feature_preprocessor': <autosklearn.pipeline.components.feature_preprocessing.FeaturePreprocessorChoice object at 0x7fd8ccb67cd0>,\n",
            "            'model_id': 16,\n",
            "            'rank': 10,\n",
            "            'sklearn_classifier': HistGradientBoostingClassifier(early_stopping=True,\n",
            "                               l2_regularization=3.387912939529945e-10,\n",
            "                               learning_rate=0.30755227194768237, max_iter=128,\n",
            "                               max_leaf_nodes=60, min_samples_leaf=39,\n",
            "                               n_iter_no_change=18, random_state=1,\n",
            "                               validation_fraction=None, warm_start=True)},\n",
            "    17: {   'balancing': Balancing(random_state=1),\n",
            "            'classifier': <autosklearn.pipeline.components.classification.ClassifierChoice object at 0x7fd8cc2c9a10>,\n",
            "            'cost': 0.03546099290780147,\n",
            "            'data_preprocessor': <autosklearn.pipeline.components.data_preprocessing.DataPreprocessorChoice object at 0x7fd8ce265e10>,\n",
            "            'ensemble_weight': 0.04,\n",
            "            'feature_preprocessor': <autosklearn.pipeline.components.feature_preprocessing.FeaturePreprocessorChoice object at 0x7fd8cc328990>,\n",
            "            'model_id': 17,\n",
            "            'rank': 11,\n",
            "            'sklearn_classifier': HistGradientBoostingClassifier(early_stopping=True,\n",
            "                               l2_regularization=0.4635442279519353,\n",
            "                               learning_rate=0.09809681787962342, max_iter=512,\n",
            "                               max_leaf_nodes=328, min_samples_leaf=2,\n",
            "                               n_iter_no_change=2, random_state=1,\n",
            "                               validation_fraction=None, warm_start=True)},\n",
            "    19: {   'balancing': Balancing(random_state=1, strategy='weighting'),\n",
            "            'classifier': <autosklearn.pipeline.components.classification.ClassifierChoice object at 0x7fd8ce24ccd0>,\n",
            "            'cost': 0.028368794326241176,\n",
            "            'data_preprocessor': <autosklearn.pipeline.components.data_preprocessing.DataPreprocessorChoice object at 0x7fd8cc37b6d0>,\n",
            "            'ensemble_weight': 0.04,\n",
            "            'feature_preprocessor': <autosklearn.pipeline.components.feature_preprocessing.FeaturePreprocessorChoice object at 0x7fd8ce2ca9d0>,\n",
            "            'model_id': 19,\n",
            "            'rank': 12,\n",
            "            'sklearn_classifier': ExtraTreesClassifier(criterion='entropy', max_features=448, min_samples_leaf=2,\n",
            "                     min_samples_split=20, n_estimators=512, n_jobs=1,\n",
            "                     random_state=1, warm_start=True)},\n",
            "    20: {   'balancing': Balancing(random_state=1),\n",
            "            'classifier': <autosklearn.pipeline.components.classification.ClassifierChoice object at 0x7fd8ccb5ec10>,\n",
            "            'cost': 0.07801418439716312,\n",
            "            'data_preprocessor': <autosklearn.pipeline.components.data_preprocessing.DataPreprocessorChoice object at 0x7fd8cc31e990>,\n",
            "            'ensemble_weight': 0.02,\n",
            "            'feature_preprocessor': <autosklearn.pipeline.components.feature_preprocessing.FeaturePreprocessorChoice object at 0x7fd8ccb5ead0>,\n",
            "            'model_id': 20,\n",
            "            'rank': 13,\n",
            "            'sklearn_classifier': PassiveAggressiveClassifier(C=0.14268277711454813, max_iter=32, random_state=1,\n",
            "                            tol=0.0002600768160857831, warm_start=True)},\n",
            "    21: {   'balancing': Balancing(random_state=1),\n",
            "            'classifier': <autosklearn.pipeline.components.classification.ClassifierChoice object at 0x7fd8ccb1acd0>,\n",
            "            'cost': 0.021276595744680882,\n",
            "            'data_preprocessor': <autosklearn.pipeline.components.data_preprocessing.DataPreprocessorChoice object at 0x7fd8ccd487d0>,\n",
            "            'ensemble_weight': 0.04,\n",
            "            'feature_preprocessor': <autosklearn.pipeline.components.feature_preprocessing.FeaturePreprocessorChoice object at 0x7fd8ccb1a450>,\n",
            "            'model_id': 21,\n",
            "            'rank': 14,\n",
            "            'sklearn_classifier': ExtraTreesClassifier(criterion='entropy', max_features=4, min_samples_leaf=2,\n",
            "                     min_samples_split=15, n_estimators=512, n_jobs=1,\n",
            "                     random_state=1, warm_start=True)},\n",
            "    22: {   'balancing': Balancing(random_state=1),\n",
            "            'classifier': <autosklearn.pipeline.components.classification.ClassifierChoice object at 0x7fd8cc291410>,\n",
            "            'cost': 0.028368794326241176,\n",
            "            'data_preprocessor': <autosklearn.pipeline.components.data_preprocessing.DataPreprocessorChoice object at 0x7fd8ccb5c550>,\n",
            "            'ensemble_weight': 0.08,\n",
            "            'feature_preprocessor': <autosklearn.pipeline.components.feature_preprocessing.FeaturePreprocessorChoice object at 0x7fd8cc628f50>,\n",
            "            'model_id': 22,\n",
            "            'rank': 15,\n",
            "            'sklearn_classifier': HistGradientBoostingClassifier(early_stopping=True,\n",
            "                               l2_regularization=8.057778875694463e-05,\n",
            "                               learning_rate=0.09179220974965213, max_iter=256,\n",
            "                               max_leaf_nodes=200, n_iter_no_change=18,\n",
            "                               random_state=1,\n",
            "                               validation_fraction=0.14295295806077554,\n",
            "                               warm_start=True)},\n",
            "    26: {   'balancing': Balancing(random_state=1),\n",
            "            'classifier': <autosklearn.pipeline.components.classification.ClassifierChoice object at 0x7fd8cc046e10>,\n",
            "            'cost': 0.028368794326241176,\n",
            "            'data_preprocessor': <autosklearn.pipeline.components.data_preprocessing.DataPreprocessorChoice object at 0x7fd8ccb5ca90>,\n",
            "            'ensemble_weight': 0.02,\n",
            "            'feature_preprocessor': <autosklearn.pipeline.components.feature_preprocessing.FeaturePreprocessorChoice object at 0x7fd8cc044290>,\n",
            "            'model_id': 26,\n",
            "            'rank': 16,\n",
            "            'sklearn_classifier': ExtraTreesClassifier(criterion='entropy', max_features=414, min_samples_leaf=2,\n",
            "                     min_samples_split=19, n_estimators=512, n_jobs=1,\n",
            "                     random_state=1, warm_start=True)},\n",
            "    27: {   'balancing': Balancing(random_state=1, strategy='weighting'),\n",
            "            'classifier': <autosklearn.pipeline.components.classification.ClassifierChoice object at 0x7fd8cc058550>,\n",
            "            'cost': 0.19148936170212771,\n",
            "            'data_preprocessor': <autosklearn.pipeline.components.data_preprocessing.DataPreprocessorChoice object at 0x7fd8cc95d110>,\n",
            "            'ensemble_weight': 0.06,\n",
            "            'feature_preprocessor': <autosklearn.pipeline.components.feature_preprocessing.FeaturePreprocessorChoice object at 0x7fd8cbd1ef50>,\n",
            "            'model_id': 27,\n",
            "            'rank': 17,\n",
            "            'sklearn_classifier': QuadraticDiscriminantAnalysis(reg_param=0.7294931241048007)},\n",
            "    29: {   'balancing': Balancing(random_state=1, strategy='weighting'),\n",
            "            'classifier': <autosklearn.pipeline.components.classification.ClassifierChoice object at 0x7fd8ccb77e90>,\n",
            "            'cost': 0.049645390070921946,\n",
            "            'data_preprocessor': <autosklearn.pipeline.components.data_preprocessing.DataPreprocessorChoice object at 0x7fd8cc044490>,\n",
            "            'ensemble_weight': 0.04,\n",
            "            'feature_preprocessor': <autosklearn.pipeline.components.feature_preprocessing.FeaturePreprocessorChoice object at 0x7fd8ccb775d0>,\n",
            "            'model_id': 29,\n",
            "            'rank': 18,\n",
            "            'sklearn_classifier': LinearSVC(C=0.09638040001529895, class_weight='balanced', dual=False,\n",
            "          intercept_scaling=1.0, random_state=1, tol=0.00010331579059656803)},\n",
            "    31: {   'balancing': Balancing(random_state=1),\n",
            "            'classifier': <autosklearn.pipeline.components.classification.ClassifierChoice object at 0x7fd8cb9b2c10>,\n",
            "            'cost': 0.021276595744680882,\n",
            "            'data_preprocessor': <autosklearn.pipeline.components.data_preprocessing.DataPreprocessorChoice object at 0x7fd8cc048950>,\n",
            "            'ensemble_weight': 0.14,\n",
            "            'feature_preprocessor': <autosklearn.pipeline.components.feature_preprocessing.FeaturePreprocessorChoice object at 0x7fd8cb9ad790>,\n",
            "            'model_id': 31,\n",
            "            'rank': 19,\n",
            "            'sklearn_classifier': ExtraTreesClassifier(criterion='entropy', max_features=20, min_samples_leaf=2,\n",
            "                     min_samples_split=14, n_estimators=512, n_jobs=1,\n",
            "                     random_state=1, warm_start=True)},\n",
            "    32: {   'balancing': Balancing(random_state=1, strategy='weighting'),\n",
            "            'classifier': <autosklearn.pipeline.components.classification.ClassifierChoice object at 0x7fd8cbb0d710>,\n",
            "            'cost': 0.04255319148936165,\n",
            "            'data_preprocessor': <autosklearn.pipeline.components.data_preprocessing.DataPreprocessorChoice object at 0x7fd8cc01c7d0>,\n",
            "            'ensemble_weight': 0.06,\n",
            "            'feature_preprocessor': <autosklearn.pipeline.components.feature_preprocessing.FeaturePreprocessorChoice object at 0x7fd8cbcddf90>,\n",
            "            'model_id': 32,\n",
            "            'rank': 20,\n",
            "            'sklearn_classifier': ExtraTreesClassifier(bootstrap=True, max_features=7, min_samples_leaf=3,\n",
            "                     min_samples_split=16, n_estimators=512, n_jobs=1,\n",
            "                     random_state=1, warm_start=True)}}\n"
          ]
        }
      ],
      "source": [
        "pprint(automl.show_models(), indent=4)"
      ]
    },
    {
      "cell_type": "markdown",
      "metadata": {
        "id": "EiZ2iR8rEKQN"
      },
      "source": [
        "## Get the Score of the final ensemble\n",
        "\n"
      ]
    },
    {
      "cell_type": "code",
      "execution_count": null,
      "metadata": {
        "colab": {
          "base_uri": "https://localhost:8080/"
        },
        "id": "SkVqeqVmEKQN",
        "jupyter": {
          "outputs_hidden": false
        },
        "outputId": "a032338f-3231-496d-a6e8-fea8e782fe1e"
      },
      "outputs": [
        {
          "name": "stdout",
          "output_type": "stream",
          "text": [
            "Accuracy score: 0.9440559440559441\n"
          ]
        }
      ],
      "source": [
        "predictions = automl.predict(X_test)\n",
        "print(\"Accuracy score:\", sklearn.metrics.accuracy_score(y_test, predictions))"
      ]
    },
    {
      "cell_type": "code",
      "execution_count": null,
      "metadata": {
        "colab": {
          "base_uri": "https://localhost:8080/"
        },
        "id": "9T48UvcaFoTA",
        "outputId": "99e6f382-75c6-4192-d4c5-51e360b80c70"
      },
      "outputs": [
        {
          "name": "stdout",
          "output_type": "stream",
          "text": [
            "Accuracy score:               precision    recall  f1-score   support\n",
            "\n",
            "           0       0.94      0.91      0.93        55\n",
            "           1       0.94      0.97      0.96        88\n",
            "\n",
            "    accuracy                           0.94       143\n",
            "   macro avg       0.94      0.94      0.94       143\n",
            "weighted avg       0.94      0.94      0.94       143\n",
            "\n"
          ]
        }
      ],
      "source": [
        "print(\"Accuracy score:\", sklearn.metrics.classification_report(y_test, predictions))"
      ]
    },
    {
      "cell_type": "code",
      "execution_count": null,
      "metadata": {
        "id": "mMqVCefpEKQN"
      },
      "outputs": [],
      "source": [
        "%matplotlib inline"
      ]
    },
    {
      "cell_type": "markdown",
      "metadata": {
        "id": "pJhQAnstEKQN"
      },
      "source": [
        "\n",
        "# Multi-label Classification\n",
        "\n",
        "This examples shows how to format the targets for a multilabel classification\n",
        "problem. Details on multilabel classification can be found\n",
        "[here](https://scikit-learn.org/stable/modules/multiclass.html).\n"
      ]
    },
    {
      "cell_type": "code",
      "execution_count": null,
      "metadata": {
        "id": "QJ9aBZRXEKQO"
      },
      "outputs": [],
      "source": [
        "import numpy as np\n",
        "from pprint import pprint\n",
        "\n",
        "import sklearn.datasets\n",
        "import sklearn.metrics\n",
        "from sklearn.utils.multiclass import type_of_target\n",
        "\n",
        "import autosklearn.classification"
      ]
    },
    {
      "cell_type": "markdown",
      "metadata": {
        "id": "gb6VUPTIEKQO"
      },
      "source": [
        "## Data Loading\n",
        "\n"
      ]
    },
    {
      "cell_type": "code",
      "execution_count": null,
      "metadata": {
        "colab": {
          "base_uri": "https://localhost:8080/"
        },
        "id": "o5yv0HLXEKQO",
        "outputId": "604267d0-8727-48c7-9da1-7441b6c853c2"
      },
      "outputs": [
        {
          "name": "stdout",
          "output_type": "stream",
          "text": [
            "type_of_target=multilabel-indicator\n"
          ]
        }
      ],
      "source": [
        "# Using reuters multilabel dataset -- https://www.openml.org/d/40594\n",
        "X, y = sklearn.datasets.fetch_openml(data_id=40594, return_X_y=True, as_frame=False)\n",
        "\n",
        "# fetch openml downloads a numpy array with TRUE/FALSE strings. Re-map it to\n",
        "# integer dtype with ones and zeros\n",
        "# This is to comply with Scikit-learn requirement:\n",
        "# \"Positive classes are indicated with 1 and negative classes with 0 or -1.\"\n",
        "# More information on: https://scikit-learn.org/stable/modules/multiclass.html\n",
        "y[y == \"TRUE\"] = 1\n",
        "y[y == \"FALSE\"] = 0\n",
        "y = y.astype(int)\n",
        "\n",
        "# Using type of target is a good way to make sure your data\n",
        "# is properly formatted\n",
        "print(f\"type_of_target={type_of_target(y)}\")\n",
        "\n",
        "X_train, X_test, y_train, y_test = sklearn.model_selection.train_test_split(\n",
        "    X, y, random_state=1\n",
        ")"
      ]
    },
    {
      "cell_type": "code",
      "execution_count": null,
      "metadata": {
        "colab": {
          "base_uri": "https://localhost:8080/"
        },
        "id": "rgyEFmPdF0dr",
        "outputId": "3945f939-b223-42ee-bf9a-987ea32c297d"
      },
      "outputs": [
        {
          "data": {
            "text/plain": [
              "((1500, 243), (500, 243), (1500, 7), (500, 7))"
            ]
          },
          "execution_count": 16,
          "metadata": {},
          "output_type": "execute_result"
        }
      ],
      "source": [
        "X_train.shape, X_test.shape, y_train.shape, y_test.shape"
      ]
    },
    {
      "cell_type": "markdown",
      "metadata": {
        "id": "gJFgJcnwEKQO"
      },
      "source": [
        "## Building the classifier\n",
        "\n"
      ]
    },
    {
      "cell_type": "code",
      "execution_count": null,
      "metadata": {
        "colab": {
          "base_uri": "https://localhost:8080/"
        },
        "id": "yX1Mi2UQEKQO",
        "outputId": "a5d8734d-55fb-4758-d48d-e5d3dfe9102b"
      },
      "outputs": [
        {
          "name": "stdout",
          "output_type": "stream",
          "text": [
            "[WARNING] [2022-10-30 22:52:32,394:Client-AutoML(1):reuters] Capping the per_run_time_limit to 29.0 to have time for a least 2 models in each process.\n"
          ]
        },
        {
          "data": {
            "text/plain": [
              "AutoSklearnClassifier(ensemble_class=<class 'autosklearn.ensembles.ensemble_selection.EnsembleSelection'>,\n",
              "                      initial_configurations_via_metalearning=0,\n",
              "                      per_run_time_limit=30,\n",
              "                      smac_scenario_args={'runcount_limit': 1},\n",
              "                      time_left_for_this_task=60)"
            ]
          },
          "execution_count": 17,
          "metadata": {},
          "output_type": "execute_result"
        }
      ],
      "source": [
        "automl = autosklearn.classification.AutoSklearnClassifier(\n",
        "    time_left_for_this_task=60,\n",
        "    per_run_time_limit=30,\n",
        "    # Bellow two flags are provided to speed up calculations\n",
        "    # Not recommended for a real implementation\n",
        "    initial_configurations_via_metalearning=0,\n",
        "    smac_scenario_args={\"runcount_limit\": 1},\n",
        ")\n",
        "automl.fit(X_train, y_train, dataset_name=\"reuters\")"
      ]
    },
    {
      "cell_type": "markdown",
      "metadata": {
        "id": "aivX8SAKEKQP"
      },
      "source": [
        "## View the models found by auto-sklearn\n",
        "\n"
      ]
    },
    {
      "cell_type": "code",
      "execution_count": null,
      "metadata": {
        "colab": {
          "base_uri": "https://localhost:8080/"
        },
        "id": "mJkOeX9uEKQP",
        "outputId": "2f2d0081-d64a-4949-c62c-d463ebe7d8df"
      },
      "outputs": [
        {
          "name": "stdout",
          "output_type": "stream",
          "text": [
            "          rank  ensemble_weight           type      cost  duration\n",
            "model_id                                                          \n",
            "2            1              1.0  random_forest  0.447294  4.152411\n"
          ]
        }
      ],
      "source": [
        "print(automl.leaderboard())"
      ]
    },
    {
      "cell_type": "markdown",
      "metadata": {
        "id": "OP09CCkzEKQP"
      },
      "source": [
        "## Print the final ensemble constructed by auto-sklearn\n",
        "\n"
      ]
    },
    {
      "cell_type": "code",
      "execution_count": null,
      "metadata": {
        "colab": {
          "base_uri": "https://localhost:8080/"
        },
        "id": "ij-RKTYLEKQP",
        "outputId": "eabccb29-4121-421c-fac7-80e06c8118dd"
      },
      "outputs": [
        {
          "name": "stdout",
          "output_type": "stream",
          "text": [
            "{   2: {   'balancing': Balancing(random_state=1),\n",
            "           'classifier': <autosklearn.pipeline.components.classification.ClassifierChoice object at 0x7fd8ce9d3450>,\n",
            "           'cost': 0.4472941828699525,\n",
            "           'data_preprocessor': <autosklearn.pipeline.components.data_preprocessing.DataPreprocessorChoice object at 0x7fd8ce4b6d50>,\n",
            "           'ensemble_weight': 1.0,\n",
            "           'feature_preprocessor': <autosklearn.pipeline.components.feature_preprocessing.FeaturePreprocessorChoice object at 0x7fd8ce9f6110>,\n",
            "           'model_id': 2,\n",
            "           'rank': 1,\n",
            "           'sklearn_classifier': RandomForestClassifier(max_features=15, n_estimators=512, n_jobs=1,\n",
            "                       random_state=1, warm_start=True)}}\n"
          ]
        }
      ],
      "source": [
        "pprint(automl.show_models(), indent=4)"
      ]
    },
    {
      "cell_type": "markdown",
      "metadata": {
        "id": "fLWFtrWXEKQP"
      },
      "source": [
        "## Print statistics about the auto-sklearn run\n",
        "\n"
      ]
    },
    {
      "cell_type": "code",
      "execution_count": null,
      "metadata": {
        "colab": {
          "base_uri": "https://localhost:8080/"
        },
        "id": "HHCColneEKQP",
        "outputId": "2ef0c009-3c90-4186-d6f8-6979351d93d6"
      },
      "outputs": [
        {
          "name": "stdout",
          "output_type": "stream",
          "text": [
            "auto-sklearn results:\n",
            "  Dataset name: reuters\n",
            "  Metric: f1_macro\n",
            "  Best validation score: 0.552706\n",
            "  Number of target algorithm runs: 1\n",
            "  Number of successful target algorithm runs: 1\n",
            "  Number of crashed target algorithm runs: 0\n",
            "  Number of target algorithms that exceeded the time limit: 0\n",
            "  Number of target algorithms that exceeded the memory limit: 0\n",
            "\n"
          ]
        }
      ],
      "source": [
        "# Print statistics about the auto-sklearn run such as number of\n",
        "# iterations, number of models failed with a time out.\n",
        "print(automl.sprint_statistics())"
      ]
    },
    {
      "cell_type": "markdown",
      "metadata": {
        "id": "5752-pwKEKQP"
      },
      "source": [
        "## Get the Score of the final ensemble\n",
        "\n"
      ]
    },
    {
      "cell_type": "code",
      "execution_count": null,
      "metadata": {
        "colab": {
          "base_uri": "https://localhost:8080/"
        },
        "id": "hCA7cT9zEKQP",
        "outputId": "7bc58ad1-a1b3-460b-c9f3-944825d2839e"
      },
      "outputs": [
        {
          "name": "stdout",
          "output_type": "stream",
          "text": [
            "Accuracy score 0.604\n"
          ]
        }
      ],
      "source": [
        "predictions = automl.predict(X_test)\n",
        "print(\"Accuracy score\", sklearn.metrics.accuracy_score(y_test, predictions))"
      ]
    },
    {
      "cell_type": "code",
      "execution_count": null,
      "metadata": {
        "colab": {
          "base_uri": "https://localhost:8080/"
        },
        "id": "v7xhuV1bGYQD",
        "outputId": "48417d99-a1ab-43fc-aa9f-8cea394d8d10"
      },
      "outputs": [
        {
          "name": "stdout",
          "output_type": "stream",
          "text": [
            "Accuracy score               precision    recall  f1-score   support\n",
            "\n",
            "           0       1.00      0.82      0.90       202\n",
            "           1       0.94      0.75      0.84       129\n",
            "           2       0.86      0.43      0.58        74\n",
            "           3       1.00      0.03      0.06        33\n",
            "           4       0.83      0.14      0.24        35\n",
            "           5       1.00      0.09      0.17        33\n",
            "           6       0.92      0.49      0.64        69\n",
            "\n",
            "   micro avg       0.96      0.59      0.73       575\n",
            "   macro avg       0.94      0.39      0.49       575\n",
            "weighted avg       0.95      0.59      0.68       575\n",
            " samples avg       0.62      0.62      0.62       575\n",
            "\n"
          ]
        },
        {
          "name": "stderr",
          "output_type": "stream",
          "text": [
            "/usr/local/lib/python3.7/dist-packages/sklearn/metrics/_classification.py:1318: UndefinedMetricWarning: Precision and F-score are ill-defined and being set to 0.0 in samples with no predicted labels. Use `zero_division` parameter to control this behavior.\n",
            "  _warn_prf(average, modifier, msg_start, len(result))\n"
          ]
        }
      ],
      "source": [
        "print(\"Accuracy score\", sklearn.metrics.classification_report(y_test, predictions))"
      ]
    },
    {
      "cell_type": "code",
      "execution_count": null,
      "metadata": {
        "id": "gAqbzbEHEKQP"
      },
      "outputs": [],
      "source": [
        "%matplotlib inline"
      ]
    },
    {
      "cell_type": "markdown",
      "metadata": {
        "id": "N-v9rl4GEKQP"
      },
      "source": [
        "\n",
        "# Regression\n",
        "\n",
        "The following example shows how to fit a simple regression model with\n",
        "*auto-sklearn*.\n"
      ]
    },
    {
      "cell_type": "code",
      "execution_count": null,
      "metadata": {
        "id": "XweehheAEKQQ"
      },
      "outputs": [],
      "source": [
        "from pprint import pprint\n",
        "\n",
        "import sklearn.datasets\n",
        "import sklearn.metrics\n",
        "\n",
        "import autosklearn.regression\n",
        "import matplotlib.pyplot as plt"
      ]
    },
    {
      "cell_type": "markdown",
      "metadata": {
        "id": "eeHcTli7EKQQ"
      },
      "source": [
        "## Data Loading\n",
        "\n"
      ]
    },
    {
      "cell_type": "code",
      "execution_count": null,
      "metadata": {
        "id": "_HmtMhNSEKQQ"
      },
      "outputs": [],
      "source": [
        "X, y = sklearn.datasets.load_diabetes(return_X_y=True)\n",
        "\n",
        "X_train, X_test, y_train, y_test = sklearn.model_selection.train_test_split(\n",
        "    X, y, random_state=1\n",
        ")"
      ]
    },
    {
      "cell_type": "markdown",
      "metadata": {
        "id": "RTr3iYj0EKQQ"
      },
      "source": [
        "## Build and fit a regressor\n",
        "\n"
      ]
    },
    {
      "cell_type": "code",
      "execution_count": null,
      "metadata": {
        "colab": {
          "base_uri": "https://localhost:8080/"
        },
        "id": "wMaY_Yb0EKQQ",
        "outputId": "db89066f-ef4c-4d5b-c636-e8f56d793b93"
      },
      "outputs": [
        {
          "data": {
            "text/plain": [
              "AutoSklearnRegressor(ensemble_class=<class 'autosklearn.ensembles.ensemble_selection.EnsembleSelection'>,\n",
              "                     per_run_time_limit=30, time_left_for_this_task=120,\n",
              "                     tmp_folder='/tmp/autosklearn_regression_example_tmp')"
            ]
          },
          "execution_count": 25,
          "metadata": {},
          "output_type": "execute_result"
        }
      ],
      "source": [
        "automl = autosklearn.regression.AutoSklearnRegressor(\n",
        "    time_left_for_this_task=120,\n",
        "    per_run_time_limit=30,\n",
        "    tmp_folder=\"/tmp/autosklearn_regression_example_tmp\",\n",
        ")\n",
        "automl.fit(X_train, y_train, dataset_name=\"diabetes\")"
      ]
    },
    {
      "cell_type": "markdown",
      "metadata": {
        "id": "tlXzzJl0EKQQ"
      },
      "source": [
        "## View the models found by auto-sklearn\n",
        "\n"
      ]
    },
    {
      "cell_type": "code",
      "execution_count": null,
      "metadata": {
        "colab": {
          "base_uri": "https://localhost:8080/"
        },
        "id": "b1Q3mvQxEKQQ",
        "outputId": "fc854fc9-b04c-4b96-bcf4-653946809ac4"
      },
      "outputs": [
        {
          "name": "stdout",
          "output_type": "stream",
          "text": [
            "          rank  ensemble_weight               type      cost   duration\n",
            "model_id                                                               \n",
            "5            1             0.16   gaussian_process  0.455015  15.680680\n",
            "6            2             0.40     ard_regression  0.455042   0.858177\n",
            "30           3             0.32     ard_regression  0.461670   0.962348\n",
            "7            4             0.02  gradient_boosting  0.518673   1.439380\n",
            "32           5             0.10      liblinear_svr  0.603061   0.960832\n"
          ]
        }
      ],
      "source": [
        "print(automl.leaderboard())"
      ]
    },
    {
      "cell_type": "markdown",
      "metadata": {
        "id": "7_fcNRnxEKQQ"
      },
      "source": [
        "## Print the final ensemble constructed by auto-sklearn\n",
        "\n"
      ]
    },
    {
      "cell_type": "code",
      "execution_count": null,
      "metadata": {
        "colab": {
          "base_uri": "https://localhost:8080/"
        },
        "id": "TFIQdliNEKQQ",
        "outputId": "502fd8a4-a257-4236-98f0-e517079fb634"
      },
      "outputs": [
        {
          "name": "stdout",
          "output_type": "stream",
          "text": [
            "{   5: {   'cost': 0.4550152734815238,\n",
            "           'data_preprocessor': <autosklearn.pipeline.components.data_preprocessing.DataPreprocessorChoice object at 0x7fd8d2c5b750>,\n",
            "           'ensemble_weight': 0.16,\n",
            "           'feature_preprocessor': <autosklearn.pipeline.components.feature_preprocessing.FeaturePreprocessorChoice object at 0x7fd8ce439a50>,\n",
            "           'model_id': 5,\n",
            "           'rank': 1,\n",
            "           'regressor': <autosklearn.pipeline.components.regression.RegressorChoice object at 0x7fd8ce439250>,\n",
            "           'sklearn_regressor': GaussianProcessRegressor(alpha=0.283161627129086,\n",
            "                         kernel=RBF(length_scale=[1, 1, 1, 1, 1, 1, 1, 1, 1, 1, 1, 1, 1, 1, 1, 1, 1, 1, 1, 1, 1, 1, 1, 1, 1, 1, 1, 1, 1, 1, 1, 1, 1, 1, 1, 1, 1, 1, 1, 1, 1, 1, 1, 1, 1, 1, 1, 1, 1, 1, 1, 1, 1, 1, 1, 1, 1, 1, 1, 1, 1, 1, 1, 1, 1, 1, 1, 1, 1, 1, 1, 1, 1, 1, 1, 1, 1, 1, 1, 1, 1, 1, 1, 1, 1, 1, 1, 1, 1, 1, 1, 1, 1, 1, 1, 1, 1, 1, 1, 1, 1, 1, 1, 1, 1, 1, 1, 1, 1, 1, 1, 1, 1, 1, 1, 1, 1, 1, 1, 1, 1, 1, 1, 1, 1, 1, 1, 1, 1, 1, 1, 1, 1, 1, 1, 1, 1, 1, 1, 1, 1, 1, 1, 1, 1, 1, 1, 1, 1, 1, 1, 1, 1, 1, 1, 1, 1, 1, 1, 1, 1, 1, 1, 1, 1, 1, 1, 1, 1, 1, 1, 1, 1, 1, 1, 1]),\n",
            "                         n_restarts_optimizer=10, normalize_y=True,\n",
            "                         random_state=1)},\n",
            "    6: {   'cost': 0.4550418898836528,\n",
            "           'data_preprocessor': <autosklearn.pipeline.components.data_preprocessing.DataPreprocessorChoice object at 0x7fd8d2c58890>,\n",
            "           'ensemble_weight': 0.4,\n",
            "           'feature_preprocessor': <autosklearn.pipeline.components.feature_preprocessing.FeaturePreprocessorChoice object at 0x7fd8ce21a750>,\n",
            "           'model_id': 6,\n",
            "           'rank': 2,\n",
            "           'regressor': <autosklearn.pipeline.components.regression.RegressorChoice object at 0x7fd8ce439390>,\n",
            "           'sklearn_regressor': ARDRegression(alpha_1=0.0003701926442639788, alpha_2=2.2118001735899097e-07,\n",
            "              copy_X=False, lambda_1=1.2037591637980971e-06,\n",
            "              lambda_2=4.358378124977852e-09, normalize=False,\n",
            "              threshold_lambda=1136.5286041327277, tol=0.021944240404849075)},\n",
            "    7: {   'cost': 0.5186726734789994,\n",
            "           'data_preprocessor': <autosklearn.pipeline.components.data_preprocessing.DataPreprocessorChoice object at 0x7fd8ce9efc90>,\n",
            "           'ensemble_weight': 0.02,\n",
            "           'feature_preprocessor': <autosklearn.pipeline.components.feature_preprocessing.FeaturePreprocessorChoice object at 0x7fd8ce2942d0>,\n",
            "           'model_id': 7,\n",
            "           'rank': 3,\n",
            "           'regressor': <autosklearn.pipeline.components.regression.RegressorChoice object at 0x7fd8ce21a110>,\n",
            "           'sklearn_regressor': HistGradientBoostingRegressor(l2_regularization=1.8428972335335263e-10,\n",
            "                              learning_rate=0.012607824914758717,\n",
            "                              loss='least_squares', max_iter=512,\n",
            "                              max_leaf_nodes=10, min_samples_leaf=8,\n",
            "                              n_iter_no_change=0, random_state=1,\n",
            "                              validation_fraction=None, warm_start=True)},\n",
            "    30: {   'cost': 0.4616696106264613,\n",
            "            'data_preprocessor': <autosklearn.pipeline.components.data_preprocessing.DataPreprocessorChoice object at 0x7fd8ce3d5610>,\n",
            "            'ensemble_weight': 0.32,\n",
            "            'feature_preprocessor': <autosklearn.pipeline.components.feature_preprocessing.FeaturePreprocessorChoice object at 0x7fd8ce33e290>,\n",
            "            'model_id': 30,\n",
            "            'rank': 4,\n",
            "            'regressor': <autosklearn.pipeline.components.regression.RegressorChoice object at 0x7fd8ce301250>,\n",
            "            'sklearn_regressor': ARDRegression(alpha_1=0.00022342197284772378, alpha_2=8.195661542633418e-07,\n",
            "              copy_X=False, lambda_1=1.5272608115560763e-08,\n",
            "              lambda_2=3.543830841923004e-06, normalize=False,\n",
            "              threshold_lambda=2344.102217832192, tol=0.0006938893773763433)},\n",
            "    32: {   'cost': 0.6030607694524028,\n",
            "            'data_preprocessor': <autosklearn.pipeline.components.data_preprocessing.DataPreprocessorChoice object at 0x7fd8d2c58b10>,\n",
            "            'ensemble_weight': 0.1,\n",
            "            'feature_preprocessor': <autosklearn.pipeline.components.feature_preprocessing.FeaturePreprocessorChoice object at 0x7fd8ce3c1290>,\n",
            "            'model_id': 32,\n",
            "            'rank': 5,\n",
            "            'regressor': <autosklearn.pipeline.components.regression.RegressorChoice object at 0x7fd8ce2e7ed0>,\n",
            "            'sklearn_regressor': LinearSVR(C=0.1162765119639722, dual=False, epsilon=0.04650381629319143,\n",
            "          loss='squared_epsilon_insensitive', random_state=1,\n",
            "          tol=0.0013208235540330454)}}\n"
          ]
        }
      ],
      "source": [
        "pprint(automl.show_models(), indent=4)"
      ]
    },
    {
      "cell_type": "markdown",
      "metadata": {
        "id": "9zIs3LDeEKQQ"
      },
      "source": [
        "## Get the Score of the final ensemble\n",
        "After training the estimator, we can now quantify the goodness of fit. One possibility for\n",
        "is the [R2 score](https://scikit-learn.org/stable/modules/model_evaluation.html#r2-score).\n",
        "The values range between -inf and 1 with 1 being the best possible value. A dummy estimator\n",
        "predicting the data mean has an R2 score of 0.\n",
        "\n"
      ]
    },
    {
      "cell_type": "code",
      "execution_count": null,
      "metadata": {
        "colab": {
          "base_uri": "https://localhost:8080/"
        },
        "id": "f13b8MivEKQQ",
        "outputId": "55cbb650-d2aa-4693-a82a-d8b2bf0cd3fd"
      },
      "outputs": [
        {
          "name": "stdout",
          "output_type": "stream",
          "text": [
            "Train R2 score: 0.5848887526360251\n",
            "Test R2 score: 0.3899369860134758\n"
          ]
        }
      ],
      "source": [
        "train_predictions = automl.predict(X_train)\n",
        "print(\"Train R2 score:\", sklearn.metrics.r2_score(y_train, train_predictions))\n",
        "test_predictions = automl.predict(X_test)\n",
        "print(\"Test R2 score:\", sklearn.metrics.r2_score(y_test, test_predictions))"
      ]
    },
    {
      "cell_type": "markdown",
      "metadata": {
        "id": "exTlft7OEKQR"
      },
      "source": [
        "## Plot the predictions\n",
        "Furthermore, we can now visually inspect the predictions. We plot the true value against the\n",
        "predictions and show results on train and test data. Points on the diagonal depict perfect\n",
        "predictions. Points below the diagonal were overestimated by the model (predicted value is higher\n",
        "than the true value), points above the diagonal were underestimated (predicted value is lower than\n",
        "the true value).\n",
        "\n"
      ]
    },
    {
      "cell_type": "code",
      "execution_count": null,
      "metadata": {
        "colab": {
          "base_uri": "https://localhost:8080/",
          "height": 297
        },
        "id": "Pw0HbRiXEKQR",
        "outputId": "d9d827aa-9948-4a5b-eb88-74e1d7433e76"
      },
      "outputs": [
        {
          "data": {
            "image/png": "[encoded data removed]",
            "text/plain": [
              "<Figure size 432x288 with 1 Axes>"
            ]
          },
          "metadata": {
            "needs_background": "light"
          },
          "output_type": "display_data"
        }
      ],
      "source": [
        "plt.scatter(train_predictions, y_train, label=\"Train samples\", c=\"#d95f02\")\n",
        "plt.scatter(test_predictions, y_test, label=\"Test samples\", c=\"#7570b3\")\n",
        "plt.xlabel(\"Predicted value\")\n",
        "plt.ylabel(\"True value\")\n",
        "plt.legend()\n",
        "plt.plot([30, 400], [30, 400], c=\"k\", zorder=0)\n",
        "plt.xlim([30, 400])\n",
        "plt.ylim([30, 400])\n",
        "plt.tight_layout()\n",
        "plt.show()"
      ]
    },
    {
      "cell_type": "code",
      "execution_count": null,
      "metadata": {
        "id": "RDMY1_GJEKQR"
      },
      "outputs": [],
      "source": [
        "%matplotlib inline"
      ]
    },
    {
      "cell_type": "markdown",
      "metadata": {
        "id": "Cu6MwEr_EKQR"
      },
      "source": [
        "\n",
        "# Multi-output Regression\n",
        "\n",
        "The following example shows how to fit a multioutput regression model with\n",
        "*auto-sklearn*.\n"
      ]
    },
    {
      "cell_type": "code",
      "execution_count": null,
      "metadata": {
        "id": "tWI09FGVEKQR"
      },
      "outputs": [],
      "source": [
        "import numpy as numpy\n",
        "from pprint import pprint\n",
        "\n",
        "from sklearn.datasets import make_regression\n",
        "from sklearn.metrics import r2_score\n",
        "from sklearn.model_selection import train_test_split\n",
        "\n",
        "from autosklearn.regression import AutoSklearnRegressor"
      ]
    },
    {
      "cell_type": "markdown",
      "metadata": {
        "id": "1r2LLJr7EKQR"
      },
      "source": [
        "## Data Loading\n",
        "\n"
      ]
    },
    {
      "cell_type": "code",
      "execution_count": null,
      "metadata": {
        "id": "QfxhRe_gEKQR"
      },
      "outputs": [],
      "source": [
        "X, y = make_regression(n_samples=1000, n_features=10, n_informative=5, n_targets=3)\n",
        "\n",
        "X_train, X_test, y_train, y_test = train_test_split(X, y, random_state=1)"
      ]
    },
    {
      "cell_type": "markdown",
      "metadata": {
        "id": "zY4MXWjoEKQR"
      },
      "source": [
        "## Build and fit a regressor\n",
        "\n"
      ]
    },
    {
      "cell_type": "code",
      "execution_count": null,
      "metadata": {
        "colab": {
          "base_uri": "https://localhost:8080/"
        },
        "id": "x7Y6vmfDEKQR",
        "outputId": "ca75eb3b-a000-466e-d030-b8f7ebe9388e"
      },
      "outputs": [
        {
          "name": "stdout",
          "output_type": "stream",
          "text": [
            "[WARNING] [2022-10-30 23:01:36,754:Client-AutoMLSMBO(1)::synthetic] Could not find meta-data directory /usr/local/lib/python3.7/dist-packages/autosklearn/metalearning/files/r2_multioutput.regression_dense\n"
          ]
        },
        {
          "data": {
            "text/plain": [
              "AutoSklearnRegressor(ensemble_class=<class 'autosklearn.ensembles.ensemble_selection.EnsembleSelection'>,\n",
              "                     per_run_time_limit=30, time_left_for_this_task=120,\n",
              "                     tmp_folder='/tmp/autosklearn_multioutput_regression_example_tmp')"
            ]
          },
          "execution_count": 39,
          "metadata": {},
          "output_type": "execute_result"
        }
      ],
      "source": [
        "automl = AutoSklearnRegressor(\n",
        "    time_left_for_this_task=120,\n",
        "    per_run_time_limit=30,\n",
        "    tmp_folder=\"/tmp/autosklearn_multioutput_regression_example_tmp\",\n",
        ")\n",
        "automl.fit(X_train, y_train, dataset_name=\"synthetic\")"
      ]
    },
    {
      "cell_type": "markdown",
      "metadata": {
        "id": "A0AM5F-bEKQR"
      },
      "source": [
        "## View the models found by auto-sklearn\n",
        "\n"
      ]
    },
    {
      "cell_type": "code",
      "execution_count": null,
      "metadata": {
        "colab": {
          "base_uri": "https://localhost:8080/"
        },
        "id": "vG8HNatMEKQR",
        "outputId": "2ed9d886-0040-41b9-a324-f717af0240e3"
      },
      "outputs": [
        {
          "name": "stdout",
          "output_type": "stream",
          "text": [
            "          rank  ensemble_weight              type          cost  duration\n",
            "model_id                                                                 \n",
            "4            1              1.0  gaussian_process  1.072847e-07  3.584767\n"
          ]
        }
      ],
      "source": [
        "print(automl.leaderboard())"
      ]
    },
    {
      "cell_type": "markdown",
      "metadata": {
        "id": "SIFTUfA3EKQR"
      },
      "source": [
        "## Print the final ensemble constructed by auto-sklearn\n",
        "\n"
      ]
    },
    {
      "cell_type": "code",
      "execution_count": null,
      "metadata": {
        "colab": {
          "base_uri": "https://localhost:8080/"
        },
        "id": "U4LshMU3EKQR",
        "outputId": "23dce05a-5867-4bbb-bbbe-11481a687934"
      },
      "outputs": [
        {
          "name": "stdout",
          "output_type": "stream",
          "text": [
            "{   4: {   'cost': 1.0728467747522785e-07,\n",
            "           'data_preprocessor': <autosklearn.pipeline.components.data_preprocessing.DataPreprocessorChoice object at 0x7fd8cb4a1750>,\n",
            "           'ensemble_weight': 1.0,\n",
            "           'feature_preprocessor': <autosklearn.pipeline.components.feature_preprocessing.FeaturePreprocessorChoice object at 0x7fd8cb214090>,\n",
            "           'model_id': 4,\n",
            "           'rank': 1,\n",
            "           'regressor': <autosklearn.pipeline.components.regression.RegressorChoice object at 0x7fd8cb218ed0>,\n",
            "           'sklearn_regressor': GaussianProcessRegressor(alpha=2.6231667524556984e-13,\n",
            "                         kernel=RBF(length_scale=[1, 1, 1, 1, 1, 1, 1, 1, 1, 1]),\n",
            "                         n_restarts_optimizer=10, normalize_y=True,\n",
            "                         random_state=1)}}\n"
          ]
        }
      ],
      "source": [
        "pprint(automl.show_models(), indent=4)"
      ]
    },
    {
      "cell_type": "markdown",
      "metadata": {
        "id": "VdpCVkDuEKQR"
      },
      "source": [
        "## Get the Score of the final ensemble\n",
        "\n"
      ]
    },
    {
      "cell_type": "code",
      "execution_count": null,
      "metadata": {
        "colab": {
          "base_uri": "https://localhost:8080/"
        },
        "id": "FPr9rx9BEKQR",
        "outputId": "d2dc5c53-38bf-45eb-8d86-a6053fe335c4"
      },
      "outputs": [
        {
          "name": "stdout",
          "output_type": "stream",
          "text": [
            "R2 score: 0.9999998878613612\n"
          ]
        }
      ],
      "source": [
        "predictions = automl.predict(X_test)\n",
        "print(\"R2 score:\", r2_score(y_test, predictions))"
      ]
    },
    {
      "cell_type": "markdown",
      "metadata": {
        "id": "DDOs-bkiEKQS"
      },
      "source": [
        "## Get the configuration space\n",
        "\n"
      ]
    },
    {
      "cell_type": "code",
      "execution_count": null,
      "metadata": {
        "colab": {
          "base_uri": "https://localhost:8080/"
        },
        "id": "rXzBBESeEKQS",
        "outputId": "f2141f46-6b44-4d85-b049-e47933031775"
      },
      "outputs": [
        {
          "name": "stdout",
          "output_type": "stream",
          "text": [
            "Configuration space object:\n",
            "  Hyperparameters:\n",
            "    data_preprocessor:__choice__, Type: Categorical, Choices: {feature_type}, Default: feature_type\n",
            "    data_preprocessor:feature_type:numerical_transformer:imputation:strategy, Type: Categorical, Choices: {mean, median, most_frequent}, Default: mean\n",
            "    data_preprocessor:feature_type:numerical_transformer:rescaling:__choice__, Type: Categorical, Choices: {minmax, none, normalize, power_transformer, quantile_transformer, robust_scaler, standardize}, Default: standardize\n",
            "    data_preprocessor:feature_type:numerical_transformer:rescaling:quantile_transformer:n_quantiles, Type: UniformInteger, Range: [10, 2000], Default: 1000\n",
            "    data_preprocessor:feature_type:numerical_transformer:rescaling:quantile_transformer:output_distribution, Type: Categorical, Choices: {normal, uniform}, Default: normal\n",
            "    data_preprocessor:feature_type:numerical_transformer:rescaling:robust_scaler:q_max, Type: UniformFloat, Range: [0.7, 0.999], Default: 0.75\n",
            "    data_preprocessor:feature_type:numerical_transformer:rescaling:robust_scaler:q_min, Type: UniformFloat, Range: [0.001, 0.3], Default: 0.25\n",
            "    feature_preprocessor:__choice__, Type: Categorical, Choices: {extra_trees_preproc_for_regression, fast_ica, feature_agglomeration, kernel_pca, kitchen_sinks, no_preprocessing, nystroem_sampler, pca, polynomial, random_trees_embedding}, Default: no_preprocessing\n",
            "    feature_preprocessor:extra_trees_preproc_for_regression:bootstrap, Type: Categorical, Choices: {True, False}, Default: False\n",
            "    feature_preprocessor:extra_trees_preproc_for_regression:criterion, Type: Categorical, Choices: {mse, friedman_mse, mae}, Default: mse\n",
            "    feature_preprocessor:extra_trees_preproc_for_regression:max_depth, Type: Constant, Value: None\n",
            "    feature_preprocessor:extra_trees_preproc_for_regression:max_features, Type: UniformFloat, Range: [0.1, 1.0], Default: 1.0\n",
            "    feature_preprocessor:extra_trees_preproc_for_regression:max_leaf_nodes, Type: Constant, Value: None\n",
            "    feature_preprocessor:extra_trees_preproc_for_regression:min_samples_leaf, Type: UniformInteger, Range: [1, 20], Default: 1\n",
            "    feature_preprocessor:extra_trees_preproc_for_regression:min_samples_split, Type: UniformInteger, Range: [2, 20], Default: 2\n",
            "    feature_preprocessor:extra_trees_preproc_for_regression:min_weight_fraction_leaf, Type: Constant, Value: 0.0\n",
            "    feature_preprocessor:extra_trees_preproc_for_regression:n_estimators, Type: Constant, Value: 100\n",
            "    feature_preprocessor:fast_ica:algorithm, Type: Categorical, Choices: {parallel, deflation}, Default: parallel\n",
            "    feature_preprocessor:fast_ica:fun, Type: Categorical, Choices: {logcosh, exp, cube}, Default: logcosh\n",
            "    feature_preprocessor:fast_ica:n_components, Type: UniformInteger, Range: [10, 2000], Default: 100\n",
            "    feature_preprocessor:fast_ica:whiten, Type: Categorical, Choices: {False, True}, Default: False\n",
            "    feature_preprocessor:feature_agglomeration:affinity, Type: Categorical, Choices: {euclidean, manhattan, cosine}, Default: euclidean\n",
            "    feature_preprocessor:feature_agglomeration:linkage, Type: Categorical, Choices: {ward, complete, average}, Default: ward\n",
            "    feature_preprocessor:feature_agglomeration:n_clusters, Type: UniformInteger, Range: [2, 400], Default: 25\n",
            "    feature_preprocessor:feature_agglomeration:pooling_func, Type: Categorical, Choices: {mean, median, max}, Default: mean\n",
            "    feature_preprocessor:kernel_pca:coef0, Type: UniformFloat, Range: [-1.0, 1.0], Default: 0.0\n",
            "    feature_preprocessor:kernel_pca:degree, Type: UniformInteger, Range: [2, 5], Default: 3\n",
            "    feature_preprocessor:kernel_pca:gamma, Type: UniformFloat, Range: [3.0517578125e-05, 8.0], Default: 0.01, on log-scale\n",
            "    feature_preprocessor:kernel_pca:kernel, Type: Categorical, Choices: {poly, rbf, sigmoid, cosine}, Default: rbf\n",
            "    feature_preprocessor:kernel_pca:n_components, Type: UniformInteger, Range: [10, 2000], Default: 100\n",
            "    feature_preprocessor:kitchen_sinks:gamma, Type: UniformFloat, Range: [3.0517578125e-05, 8.0], Default: 1.0, on log-scale\n",
            "    feature_preprocessor:kitchen_sinks:n_components, Type: UniformInteger, Range: [50, 10000], Default: 100, on log-scale\n",
            "    feature_preprocessor:nystroem_sampler:coef0, Type: UniformFloat, Range: [-1.0, 1.0], Default: 0.0\n",
            "    feature_preprocessor:nystroem_sampler:degree, Type: UniformInteger, Range: [2, 5], Default: 3\n",
            "    feature_preprocessor:nystroem_sampler:gamma, Type: UniformFloat, Range: [3.0517578125e-05, 8.0], Default: 0.1, on log-scale\n",
            "    feature_preprocessor:nystroem_sampler:kernel, Type: Categorical, Choices: {poly, rbf, sigmoid, cosine}, Default: rbf\n",
            "    feature_preprocessor:nystroem_sampler:n_components, Type: UniformInteger, Range: [50, 10000], Default: 100, on log-scale\n",
            "    feature_preprocessor:pca:keep_variance, Type: UniformFloat, Range: [0.5, 0.9999], Default: 0.9999\n",
            "    feature_preprocessor:pca:whiten, Type: Categorical, Choices: {False, True}, Default: False\n",
            "    feature_preprocessor:polynomial:degree, Type: UniformInteger, Range: [2, 3], Default: 2\n",
            "    feature_preprocessor:polynomial:include_bias, Type: Categorical, Choices: {True, False}, Default: True\n",
            "    feature_preprocessor:polynomial:interaction_only, Type: Categorical, Choices: {False, True}, Default: False\n",
            "    feature_preprocessor:random_trees_embedding:bootstrap, Type: Categorical, Choices: {True, False}, Default: True\n",
            "    feature_preprocessor:random_trees_embedding:max_depth, Type: UniformInteger, Range: [2, 10], Default: 5\n",
            "    feature_preprocessor:random_trees_embedding:max_leaf_nodes, Type: Constant, Value: None\n",
            "    feature_preprocessor:random_trees_embedding:min_samples_leaf, Type: UniformInteger, Range: [1, 20], Default: 1\n",
            "    feature_preprocessor:random_trees_embedding:min_samples_split, Type: UniformInteger, Range: [2, 20], Default: 2\n",
            "    feature_preprocessor:random_trees_embedding:min_weight_fraction_leaf, Type: Constant, Value: 1.0\n",
            "    feature_preprocessor:random_trees_embedding:n_estimators, Type: UniformInteger, Range: [10, 100], Default: 10\n",
            "    regressor:__choice__, Type: Categorical, Choices: {decision_tree, extra_trees, gaussian_process, k_nearest_neighbors, random_forest}, Default: random_forest\n",
            "    regressor:decision_tree:criterion, Type: Categorical, Choices: {mse, friedman_mse, mae}, Default: mse\n",
            "    regressor:decision_tree:max_depth_factor, Type: UniformFloat, Range: [0.0, 2.0], Default: 0.5\n",
            "    regressor:decision_tree:max_features, Type: Constant, Value: 1.0\n",
            "    regressor:decision_tree:max_leaf_nodes, Type: Constant, Value: None\n",
            "    regressor:decision_tree:min_impurity_decrease, Type: Constant, Value: 0.0\n",
            "    regressor:decision_tree:min_samples_leaf, Type: UniformInteger, Range: [1, 20], Default: 1\n",
            "    regressor:decision_tree:min_samples_split, Type: UniformInteger, Range: [2, 20], Default: 2\n",
            "    regressor:decision_tree:min_weight_fraction_leaf, Type: Constant, Value: 0.0\n",
            "    regressor:extra_trees:bootstrap, Type: Categorical, Choices: {True, False}, Default: False\n",
            "    regressor:extra_trees:criterion, Type: Categorical, Choices: {mse, friedman_mse, mae}, Default: mse\n",
            "    regressor:extra_trees:max_depth, Type: Constant, Value: None\n",
            "    regressor:extra_trees:max_features, Type: UniformFloat, Range: [0.1, 1.0], Default: 1.0\n",
            "    regressor:extra_trees:max_leaf_nodes, Type: Constant, Value: None\n",
            "    regressor:extra_trees:min_impurity_decrease, Type: Constant, Value: 0.0\n",
            "    regressor:extra_trees:min_samples_leaf, Type: UniformInteger, Range: [1, 20], Default: 1\n",
            "    regressor:extra_trees:min_samples_split, Type: UniformInteger, Range: [2, 20], Default: 2\n",
            "    regressor:extra_trees:min_weight_fraction_leaf, Type: Constant, Value: 0.0\n",
            "    regressor:gaussian_process:alpha, Type: UniformFloat, Range: [1e-14, 1.0], Default: 1e-08, on log-scale\n",
            "    regressor:gaussian_process:thetaL, Type: UniformFloat, Range: [1e-10, 0.001], Default: 1e-06, on log-scale\n",
            "    regressor:gaussian_process:thetaU, Type: UniformFloat, Range: [1.0, 100000.0], Default: 100000.0, on log-scale\n",
            "    regressor:k_nearest_neighbors:n_neighbors, Type: UniformInteger, Range: [1, 100], Default: 1, on log-scale\n",
            "    regressor:k_nearest_neighbors:p, Type: Categorical, Choices: {1, 2}, Default: 2\n",
            "    regressor:k_nearest_neighbors:weights, Type: Categorical, Choices: {uniform, distance}, Default: uniform\n",
            "    regressor:random_forest:bootstrap, Type: Categorical, Choices: {True, False}, Default: True\n",
            "    regressor:random_forest:criterion, Type: Categorical, Choices: {mse, friedman_mse, mae}, Default: mse\n",
            "    regressor:random_forest:max_depth, Type: Constant, Value: None\n",
            "    regressor:random_forest:max_features, Type: UniformFloat, Range: [0.1, 1.0], Default: 1.0\n",
            "    regressor:random_forest:max_leaf_nodes, Type: Constant, Value: None\n",
            "    regressor:random_forest:min_impurity_decrease, Type: Constant, Value: 0.0\n",
            "    regressor:random_forest:min_samples_leaf, Type: UniformInteger, Range: [1, 20], Default: 1\n",
            "    regressor:random_forest:min_samples_split, Type: UniformInteger, Range: [2, 20], Default: 2\n",
            "    regressor:random_forest:min_weight_fraction_leaf, Type: Constant, Value: 0.0\n",
            "  Conditions:\n",
            "    data_preprocessor:feature_type:numerical_transformer:imputation:strategy | data_preprocessor:__choice__ == 'feature_type'\n",
            "    data_preprocessor:feature_type:numerical_transformer:rescaling:__choice__ | data_preprocessor:__choice__ == 'feature_type'\n",
            "    data_preprocessor:feature_type:numerical_transformer:rescaling:quantile_transformer:n_quantiles | data_preprocessor:feature_type:numerical_transformer:rescaling:__choice__ == 'quantile_transformer'\n",
            "    data_preprocessor:feature_type:numerical_transformer:rescaling:quantile_transformer:output_distribution | data_preprocessor:feature_type:numerical_transformer:rescaling:__choice__ == 'quantile_transformer'\n",
            "    data_preprocessor:feature_type:numerical_transformer:rescaling:robust_scaler:q_max | data_preprocessor:feature_type:numerical_transformer:rescaling:__choice__ == 'robust_scaler'\n",
            "    data_preprocessor:feature_type:numerical_transformer:rescaling:robust_scaler:q_min | data_preprocessor:feature_type:numerical_transformer:rescaling:__choice__ == 'robust_scaler'\n",
            "    feature_preprocessor:extra_trees_preproc_for_regression:bootstrap | feature_preprocessor:__choice__ == 'extra_trees_preproc_for_regression'\n",
            "    feature_preprocessor:extra_trees_preproc_for_regression:criterion | feature_preprocessor:__choice__ == 'extra_trees_preproc_for_regression'\n",
            "    feature_preprocessor:extra_trees_preproc_for_regression:max_depth | feature_preprocessor:__choice__ == 'extra_trees_preproc_for_regression'\n",
            "    feature_preprocessor:extra_trees_preproc_for_regression:max_features | feature_preprocessor:__choice__ == 'extra_trees_preproc_for_regression'\n",
            "    feature_preprocessor:extra_trees_preproc_for_regression:max_leaf_nodes | feature_preprocessor:__choice__ == 'extra_trees_preproc_for_regression'\n",
            "    feature_preprocessor:extra_trees_preproc_for_regression:min_samples_leaf | feature_preprocessor:__choice__ == 'extra_trees_preproc_for_regression'\n",
            "    feature_preprocessor:extra_trees_preproc_for_regression:min_samples_split | feature_preprocessor:__choice__ == 'extra_trees_preproc_for_regression'\n",
            "    feature_preprocessor:extra_trees_preproc_for_regression:min_weight_fraction_leaf | feature_preprocessor:__choice__ == 'extra_trees_preproc_for_regression'\n",
            "    feature_preprocessor:extra_trees_preproc_for_regression:n_estimators | feature_preprocessor:__choice__ == 'extra_trees_preproc_for_regression'\n",
            "    feature_preprocessor:fast_ica:algorithm | feature_preprocessor:__choice__ == 'fast_ica'\n",
            "    feature_preprocessor:fast_ica:fun | feature_preprocessor:__choice__ == 'fast_ica'\n",
            "    feature_preprocessor:fast_ica:n_components | feature_preprocessor:fast_ica:whiten == 'True'\n",
            "    feature_preprocessor:fast_ica:whiten | feature_preprocessor:__choice__ == 'fast_ica'\n",
            "    feature_preprocessor:feature_agglomeration:affinity | feature_preprocessor:__choice__ == 'feature_agglomeration'\n",
            "    feature_preprocessor:feature_agglomeration:linkage | feature_preprocessor:__choice__ == 'feature_agglomeration'\n",
            "    feature_preprocessor:feature_agglomeration:n_clusters | feature_preprocessor:__choice__ == 'feature_agglomeration'\n",
            "    feature_preprocessor:feature_agglomeration:pooling_func | feature_preprocessor:__choice__ == 'feature_agglomeration'\n",
            "    feature_preprocessor:kernel_pca:coef0 | feature_preprocessor:kernel_pca:kernel in {'poly', 'sigmoid'}\n",
            "    feature_preprocessor:kernel_pca:degree | feature_preprocessor:kernel_pca:kernel == 'poly'\n",
            "    feature_preprocessor:kernel_pca:gamma | feature_preprocessor:kernel_pca:kernel in {'poly', 'rbf'}\n",
            "    feature_preprocessor:kernel_pca:kernel | feature_preprocessor:__choice__ == 'kernel_pca'\n",
            "    feature_preprocessor:kernel_pca:n_components | feature_preprocessor:__choice__ == 'kernel_pca'\n",
            "    feature_preprocessor:kitchen_sinks:gamma | feature_preprocessor:__choice__ == 'kitchen_sinks'\n",
            "    feature_preprocessor:kitchen_sinks:n_components | feature_preprocessor:__choice__ == 'kitchen_sinks'\n",
            "    feature_preprocessor:nystroem_sampler:coef0 | feature_preprocessor:nystroem_sampler:kernel in {'poly', 'sigmoid'}\n",
            "    feature_preprocessor:nystroem_sampler:degree | feature_preprocessor:nystroem_sampler:kernel == 'poly'\n",
            "    feature_preprocessor:nystroem_sampler:gamma | feature_preprocessor:nystroem_sampler:kernel in {'poly', 'rbf', 'sigmoid'}\n",
            "    feature_preprocessor:nystroem_sampler:kernel | feature_preprocessor:__choice__ == 'nystroem_sampler'\n",
            "    feature_preprocessor:nystroem_sampler:n_components | feature_preprocessor:__choice__ == 'nystroem_sampler'\n",
            "    feature_preprocessor:pca:keep_variance | feature_preprocessor:__choice__ == 'pca'\n",
            "    feature_preprocessor:pca:whiten | feature_preprocessor:__choice__ == 'pca'\n",
            "    feature_preprocessor:polynomial:degree | feature_preprocessor:__choice__ == 'polynomial'\n",
            "    feature_preprocessor:polynomial:include_bias | feature_preprocessor:__choice__ == 'polynomial'\n",
            "    feature_preprocessor:polynomial:interaction_only | feature_preprocessor:__choice__ == 'polynomial'\n",
            "    feature_preprocessor:random_trees_embedding:bootstrap | feature_preprocessor:__choice__ == 'random_trees_embedding'\n",
            "    feature_preprocessor:random_trees_embedding:max_depth | feature_preprocessor:__choice__ == 'random_trees_embedding'\n",
            "    feature_preprocessor:random_trees_embedding:max_leaf_nodes | feature_preprocessor:__choice__ == 'random_trees_embedding'\n",
            "    feature_preprocessor:random_trees_embedding:min_samples_leaf | feature_preprocessor:__choice__ == 'random_trees_embedding'\n",
            "    feature_preprocessor:random_trees_embedding:min_samples_split | feature_preprocessor:__choice__ == 'random_trees_embedding'\n",
            "    feature_preprocessor:random_trees_embedding:min_weight_fraction_leaf | feature_preprocessor:__choice__ == 'random_trees_embedding'\n",
            "    feature_preprocessor:random_trees_embedding:n_estimators | feature_preprocessor:__choice__ == 'random_trees_embedding'\n",
            "    regressor:decision_tree:criterion | regressor:__choice__ == 'decision_tree'\n",
            "    regressor:decision_tree:max_depth_factor | regressor:__choice__ == 'decision_tree'\n",
            "    regressor:decision_tree:max_features | regressor:__choice__ == 'decision_tree'\n",
            "    regressor:decision_tree:max_leaf_nodes | regressor:__choice__ == 'decision_tree'\n",
            "    regressor:decision_tree:min_impurity_decrease | regressor:__choice__ == 'decision_tree'\n",
            "    regressor:decision_tree:min_samples_leaf | regressor:__choice__ == 'decision_tree'\n",
            "    regressor:decision_tree:min_samples_split | regressor:__choice__ == 'decision_tree'\n",
            "    regressor:decision_tree:min_weight_fraction_leaf | regressor:__choice__ == 'decision_tree'\n",
            "    regressor:extra_trees:bootstrap | regressor:__choice__ == 'extra_trees'\n",
            "    regressor:extra_trees:criterion | regressor:__choice__ == 'extra_trees'\n",
            "    regressor:extra_trees:max_depth | regressor:__choice__ == 'extra_trees'\n",
            "    regressor:extra_trees:max_features | regressor:__choice__ == 'extra_trees'\n",
            "    regressor:extra_trees:max_leaf_nodes | regressor:__choice__ == 'extra_trees'\n",
            "    regressor:extra_trees:min_impurity_decrease | regressor:__choice__ == 'extra_trees'\n",
            "    regressor:extra_trees:min_samples_leaf | regressor:__choice__ == 'extra_trees'\n",
            "    regressor:extra_trees:min_samples_split | regressor:__choice__ == 'extra_trees'\n",
            "    regressor:extra_trees:min_weight_fraction_leaf | regressor:__choice__ == 'extra_trees'\n",
            "    regressor:gaussian_process:alpha | regressor:__choice__ == 'gaussian_process'\n",
            "    regressor:gaussian_process:thetaL | regressor:__choice__ == 'gaussian_process'\n",
            "    regressor:gaussian_process:thetaU | regressor:__choice__ == 'gaussian_process'\n",
            "    regressor:k_nearest_neighbors:n_neighbors | regressor:__choice__ == 'k_nearest_neighbors'\n",
            "    regressor:k_nearest_neighbors:p | regressor:__choice__ == 'k_nearest_neighbors'\n",
            "    regressor:k_nearest_neighbors:weights | regressor:__choice__ == 'k_nearest_neighbors'\n",
            "    regressor:random_forest:bootstrap | regressor:__choice__ == 'random_forest'\n",
            "    regressor:random_forest:criterion | regressor:__choice__ == 'random_forest'\n",
            "    regressor:random_forest:max_depth | regressor:__choice__ == 'random_forest'\n",
            "    regressor:random_forest:max_features | regressor:__choice__ == 'random_forest'\n",
            "    regressor:random_forest:max_leaf_nodes | regressor:__choice__ == 'random_forest'\n",
            "    regressor:random_forest:min_impurity_decrease | regressor:__choice__ == 'random_forest'\n",
            "    regressor:random_forest:min_samples_leaf | regressor:__choice__ == 'random_forest'\n",
            "    regressor:random_forest:min_samples_split | regressor:__choice__ == 'random_forest'\n",
            "    regressor:random_forest:min_weight_fraction_leaf | regressor:__choice__ == 'random_forest'\n",
            "  Forbidden Clauses:\n",
            "    (Forbidden: feature_preprocessor:feature_agglomeration:affinity in {'cosine', 'manhattan'} && Forbidden: feature_preprocessor:feature_agglomeration:linkage == 'ward')\n",
            "    (Forbidden: feature_preprocessor:__choice__ == 'random_trees_embedding' && Forbidden: regressor:__choice__ == 'gaussian_process')\n",
            "    (Forbidden: regressor:__choice__ == 'decision_tree' && Forbidden: feature_preprocessor:__choice__ == 'kitchen_sinks')\n",
            "    (Forbidden: regressor:__choice__ == 'decision_tree' && Forbidden: feature_preprocessor:__choice__ == 'kernel_pca')\n",
            "    (Forbidden: regressor:__choice__ == 'decision_tree' && Forbidden: feature_preprocessor:__choice__ == 'nystroem_sampler')\n",
            "    (Forbidden: regressor:__choice__ == 'extra_trees' && Forbidden: feature_preprocessor:__choice__ == 'kitchen_sinks')\n",
            "    (Forbidden: regressor:__choice__ == 'extra_trees' && Forbidden: feature_preprocessor:__choice__ == 'kernel_pca')\n",
            "    (Forbidden: regressor:__choice__ == 'extra_trees' && Forbidden: feature_preprocessor:__choice__ == 'nystroem_sampler')\n",
            "    (Forbidden: regressor:__choice__ == 'gaussian_process' && Forbidden: feature_preprocessor:__choice__ == 'kitchen_sinks')\n",
            "    (Forbidden: regressor:__choice__ == 'gaussian_process' && Forbidden: feature_preprocessor:__choice__ == 'kernel_pca')\n",
            "    (Forbidden: regressor:__choice__ == 'gaussian_process' && Forbidden: feature_preprocessor:__choice__ == 'nystroem_sampler')\n",
            "    (Forbidden: regressor:__choice__ == 'k_nearest_neighbors' && Forbidden: feature_preprocessor:__choice__ == 'kitchen_sinks')\n",
            "    (Forbidden: regressor:__choice__ == 'k_nearest_neighbors' && Forbidden: feature_preprocessor:__choice__ == 'kernel_pca')\n",
            "    (Forbidden: regressor:__choice__ == 'k_nearest_neighbors' && Forbidden: feature_preprocessor:__choice__ == 'nystroem_sampler')\n",
            "    (Forbidden: regressor:__choice__ == 'random_forest' && Forbidden: feature_preprocessor:__choice__ == 'kitchen_sinks')\n",
            "    (Forbidden: regressor:__choice__ == 'random_forest' && Forbidden: feature_preprocessor:__choice__ == 'kernel_pca')\n",
            "    (Forbidden: regressor:__choice__ == 'random_forest' && Forbidden: feature_preprocessor:__choice__ == 'nystroem_sampler')\n",
            "\n"
          ]
        }
      ],
      "source": [
        "# The configuration space is reduced, i.e. no SVM.\n",
        "print(automl.get_configuration_space(X_train, y_train))"
      ]
    }
  ],
  "metadata": {
    "colab": {
      "collapsed_sections": [],
      "provenance": []
    },
    "gpuClass": "standard",
    "kernelspec": {
      "display_name": "Python 3.8.13 ('tensorflow')",
      "language": "python",
      "name": "python3"
    },
    "language_info": {
      "codemirror_mode": {
        "name": "ipython",
        "version": 3
      },
      "file_extension": ".py",
      "mimetype": "text/x-python",
      "name": "python",
      "nbconvert_exporter": "python",
      "pygments_lexer": "ipython3",
      "version": "3.8.13"
    },
    "vscode": {
      "interpreter": {
        "hash": "b268f28d331b15021f1a1a06bd78dfb610062026dab53e3f84b324e3ecc51d26"
      }
    }
  },
  "nbformat": 4,
  "nbformat_minor": 0
}